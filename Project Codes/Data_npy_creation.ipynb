{
 "cells": [
  {
   "cell_type": "markdown",
   "metadata": {},
   "source": [
    "Creating .npy file of Bangla Lekha Isolated "
   ]
  },
  {
   "cell_type": "code",
   "execution_count": 1,
   "metadata": {},
   "outputs": [],
   "source": [
    "import os\n",
    "import cv2\n",
    "import numpy as np\n",
    "import dask\n",
    "import dask.array as da\n",
    "import pandas as pd\n",
    "import matplotlib.pyplot as plt"
   ]
  },
  {
   "cell_type": "code",
   "execution_count": 5,
   "metadata": {},
   "outputs": [],
   "source": [
    "# Define the directory path containing sub-folders of images\n",
    "direc_path = r'/home/sysadm/z/ML_P1/BanglaLekha-Isolated/Images'\n"
   ]
  },
  {
   "cell_type": "markdown",
   "metadata": {},
   "source": [
    "Reading the whole Bangla lekha dataset in numpy and then saving it in .npy format.\n",
    "\n",
    "Do not run unnecessarily access the whole Bangla npy file using np.load()\n",
    "\n",
    "Bangla lekha npy file is saved in:'/home/sysadm/z/ML_P1/Data_npy_files/bangla_lekha_data.npy'"
   ]
  },
  {
   "cell_type": "code",
   "execution_count": 6,
   "metadata": {},
   "outputs": [],
   "source": [
    "# Function to load and preprocess an image\n",
    "def load_and_preprocess_image(sub_folder, img_name):\n",
    "    img_path = os.path.join(direc_path, sub_folder, img_name)\n",
    "    img = cv2.imread(img_path, cv2.IMREAD_GRAYSCALE)  # Read image in grayscale\n",
    "    img = cv2.resize(img, (28, 28))  # Resize image to a uniform size (e.g., 28x28)\n",
    "    img = img.flatten() / 255.0  # Flatten pixel values and normalize to range [0, 1]\n",
    "    label = int(sub_folder)  # Get the label from the sub-folder name\n",
    "    return img, label\n",
    "\n",
    "# Function to process images in a sub-folder\n",
    "def process_sub_folder(sub_folder):\n",
    "    sub_path = os.path.join(direc_path, sub_folder)\n",
    "    images = []\n",
    "    labels = []\n",
    "\n",
    "    # Loop through each image in the sub-folder\n",
    "    for img_name in os.listdir(sub_path):\n",
    "        img, label = load_and_preprocess_image(sub_folder, img_name)\n",
    "        images.append(img)\n",
    "        labels.append(label)  # Store label for the image\n",
    "        \n",
    "    return images, labels\n",
    "\n",
    "# List sub-folders (classes)\n",
    "sub_folders = os.listdir(direc_path)\n",
    "\n",
    "# Sort sub-folders numerically\n",
    "sub_folders.sort(key=lambda x: int(x))\n",
    "\n",
    "# Create Dask delayed objects for image processing\n",
    "delayed_results = [dask.delayed(process_sub_folder)(sub_folder) for sub_folder in sub_folders]\n",
    "\n",
    "# Compute delayed objects in parallel\n",
    "results = dask.compute(*delayed_results)\n"
   ]
  },
  {
   "cell_type": "code",
   "execution_count": 7,
   "metadata": {},
   "outputs": [],
   "source": [
    "\n",
    "# Flatten the list of lists of images and labels\n",
    "images_flat = [img for sublist in results for img in sublist[0]]\n",
    "labels_flat = [label for sublist in results for label in sublist[1]]\n",
    "\n",
    "# Convert lists to NumPy arrays\n",
    "images_array = np.array(images_flat)\n",
    "labels_array = np.array(labels_flat)\n",
    "\n",
    "# Save NumPy arrays to disk\n",
    "#np.save('images.npy', images_array)\n",
    "#np.save('labels.npy', labels_array)\n",
    "\n",
    "\n",
    "#Merging te images and labels.\n",
    "whole_data=np.hstack([images_array,labels_array.reshape((labels_array.shape[0],1))])\n",
    "whole_data[:,-1]\n",
    "\n",
    "#Saving the whole Ekush dataset in .npy format\n",
    "np.save('/home/sysadm/z/ML_P1/Clean_bangla_npy/clean_bangla_lekha_data.npy', whole_data)"
   ]
  },
  {
   "cell_type": "code",
   "execution_count": 8,
   "metadata": {},
   "outputs": [
    {
     "data": {
      "text/plain": [
       "(86458, 785)"
      ]
     },
     "execution_count": 8,
     "metadata": {},
     "output_type": "execute_result"
    }
   ],
   "source": [
    "whole_data.shape\n",
    "#whole_data[:,-1]"
   ]
  },
  {
   "cell_type": "code",
   "execution_count": 4,
   "metadata": {},
   "outputs": [
    {
     "data": {
      "text/plain": [
       "array([ 1.,  1.,  1., ..., 50., 50., 50.])"
      ]
     },
     "execution_count": 4,
     "metadata": {},
     "output_type": "execute_result"
    }
   ],
   "source": [
    "banglalekha_data_path_np='/home/sysadm/z/ML_P1/Data_npy_files/bangla_lekha_data.npy'\n",
    "bangla_lekha=np.load(banglalekha_data_path_np)\n",
    "bangla_lekha[:,-1]"
   ]
  },
  {
   "cell_type": "code",
   "execution_count": 5,
   "metadata": {},
   "outputs": [
    {
     "data": {
      "text/plain": [
       "(98950, 785)"
      ]
     },
     "execution_count": 5,
     "metadata": {},
     "output_type": "execute_result"
    }
   ],
   "source": [
    "bangla_lekha.shape"
   ]
  },
  {
   "cell_type": "code",
   "execution_count": 10,
   "metadata": {},
   "outputs": [
    {
     "data": {
      "text/plain": [
       "array([[0.     , 0.     , 0.     , 0.     , 0.     , 0.     , 0.     ,\n",
       "        0.     , 0.     , 0.     , 0.     , 0.     , 0.     , 0.     ,\n",
       "        0.     , 0.     , 0.     , 0.     , 0.     , 0.     , 0.     ,\n",
       "        0.     , 0.     , 0.     , 0.     , 0.     , 0.     , 0.     ],\n",
       "       [0.     , 0.     , 0.     , 0.     , 0.     , 0.     , 0.     ,\n",
       "        0.     , 0.     , 0.     , 0.     , 0.     , 0.     , 0.     ,\n",
       "        0.     , 0.     , 0.     , 0.     , 0.     , 0.     , 0.     ,\n",
       "        0.     , 0.     , 0.     , 0.     , 0.     , 0.     , 0.     ],\n",
       "       [0.     , 0.     , 0.     , 0.     , 0.     , 0.     , 0.     ,\n",
       "        0.     , 0.     , 0.     , 0.     , 0.     , 0.     , 0.     ,\n",
       "        0.     , 0.     , 0.     , 0.     , 0.     , 0.     , 0.     ,\n",
       "        0.     , 0.     , 0.     , 0.     , 0.     , 0.     , 0.     ],\n",
       "       [0.     , 0.     , 0.     , 0.     , 0.     , 0.     , 0.     ,\n",
       "        0.     , 0.     , 0.     , 0.     , 0.     , 0.     , 0.     ,\n",
       "        0.     , 0.     , 0.     , 0.     , 0.     , 0.     , 0.     ,\n",
       "        0.     , 0.     , 0.     , 0.     , 0.     , 0.     , 0.     ],\n",
       "       [0.     , 0.     , 0.     , 0.     , 0.     , 0.     , 0.     ,\n",
       "        0.     , 0.     , 0.     , 0.     , 0.     , 0.     , 0.     ,\n",
       "        0.     , 0.     , 0.     , 0.     , 0.     , 0.     , 0.     ,\n",
       "        0.     , 0.     , 0.     , 0.     , 0.     , 0.     , 0.     ],\n",
       "       [0.     , 0.     , 0.     , 0.     , 0.     , 0.     , 0.     ,\n",
       "        0.     , 0.     , 0.     , 0.     , 0.     , 0.     , 0.     ,\n",
       "        0.     , 0.     , 0.     , 0.     , 0.     , 0.     , 0.     ,\n",
       "        0.     , 0.698  , 0.     , 0.     , 0.     , 0.     , 0.     ],\n",
       "       [0.     , 0.     , 0.     , 0.     , 0.     , 0.     , 0.     ,\n",
       "        0.     , 0.     , 0.     , 0.     , 0.     , 0.     , 0.     ,\n",
       "        0.     , 0.     , 0.     , 0.     , 0.     , 0.7334 , 1.     ,\n",
       "        1.     , 1.     , 1.     , 1.     , 1.     , 1.     , 0.8745 ],\n",
       "       [0.     , 0.     , 0.     , 0.     , 0.     , 0.686  , 0.     ,\n",
       "        0.     , 0.     , 0.     , 0.     , 0.     , 0.     , 0.     ,\n",
       "        0.     , 0.9097 , 1.     , 1.     , 0.7686 , 1.     , 1.     ,\n",
       "        1.     , 1.     , 1.     , 1.     , 1.     , 0.2313 , 0.2313 ],\n",
       "       [0.     , 1.     , 1.     , 1.     , 1.     , 1.     , 1.     ,\n",
       "        1.     , 1.     , 0.6587 , 0.     , 0.     , 0.     , 0.     ,\n",
       "        1.     , 1.     , 1.     , 1.     , 1.     , 0.     , 0.     ,\n",
       "        0.     , 1.     , 1.     , 0.     , 0.     , 0.     , 0.     ],\n",
       "       [1.     , 1.     , 0.     , 0.     , 0.     , 0.     , 0.     ,\n",
       "        0.     , 0.     , 0.1608 , 1.     , 0.8394 , 1.     , 1.     ,\n",
       "        1.     , 0.     , 0.     , 1.     , 1.     , 0.     , 0.     ,\n",
       "        0.     , 0.1059 , 1.     , 0.     , 0.     , 0.     , 0.     ],\n",
       "       [1.     , 1.     , 0.     , 0.     , 0.     , 0.     , 0.     ,\n",
       "        0.     , 0.     , 0.     , 0.     , 0.     , 1.     , 1.     ,\n",
       "        0.4626 , 0.     , 0.     , 0.     , 1.     , 0.     , 0.     ,\n",
       "        0.     , 0.     , 1.     , 0.     , 0.     , 0.     , 0.     ],\n",
       "       [1.     , 1.     , 0.     , 0.     , 0.     , 0.     , 0.     ,\n",
       "        0.     , 0.     , 0.     , 0.     , 0.     , 1.     , 1.     ,\n",
       "        0.     , 0.     , 0.     , 0.     , 1.     , 0.1059 , 0.     ,\n",
       "        0.     , 0.     , 1.     , 0.     , 0.     , 0.     , 0.     ],\n",
       "       [0.     , 0.     , 0.     , 0.     , 0.     , 0.     , 0.     ,\n",
       "        0.     , 0.     , 0.     , 0.     , 0.     , 1.     , 1.     ,\n",
       "        0.     , 0.     , 0.     , 0.     , 1.     , 0.     , 0.     ,\n",
       "        0.     , 0.     , 1.     , 0.     , 0.     , 0.     , 0.     ],\n",
       "       [0.     , 0.     , 0.     , 0.     , 0.     , 0.     , 0.     ,\n",
       "        0.     , 0.     , 0.     , 0.     , 1.     , 1.     , 1.     ,\n",
       "        0.     , 0.     , 0.     , 0.749  , 1.     , 0.     , 0.     ,\n",
       "        0.     , 0.     , 1.     , 0.     , 0.     , 0.     , 0.     ],\n",
       "       [0.     , 0.     , 0.     , 0.     , 0.     , 1.     , 0.     ,\n",
       "        0.     , 0.     , 0.     , 0.     , 1.     , 1.     , 0.     ,\n",
       "        0.     , 0.     , 0.     , 1.     , 1.     , 0.     , 0.     ,\n",
       "        0.     , 0.     , 1.     , 0.     , 0.     , 0.     , 0.     ],\n",
       "       [0.     , 0.     , 0.     , 0.     , 0.     , 0.89   , 1.     ,\n",
       "        0.     , 0.     , 0.     , 0.     , 1.     , 1.     , 0.     ,\n",
       "        0.     , 0.     , 0.     , 1.     , 0.1686 , 0.     , 0.     ,\n",
       "        0.     , 0.     , 1.     , 0.     , 0.     , 0.     , 0.     ],\n",
       "       [0.     , 0.     , 0.     , 0.     , 0.     , 0.     , 1.     ,\n",
       "        0.     , 0.     , 0.     , 0.     , 1.     , 0.5527 , 0.     ,\n",
       "        0.     , 0.     , 1.     , 1.     , 0.     , 0.     , 0.     ,\n",
       "        0.     , 0.     , 1.     , 0.     , 0.     , 0.     , 0.     ],\n",
       "       [0.     , 0.     , 0.     , 0.     , 0.     , 0.     , 1.     ,\n",
       "        1.     , 0.     , 0.     , 0.     , 0.     , 0.     , 0.     ,\n",
       "        0.     , 0.655  , 1.     , 0.2196 , 0.     , 0.     , 0.     ,\n",
       "        0.     , 0.1059 , 1.     , 0.     , 0.     , 0.     , 0.     ],\n",
       "       [0.     , 0.     , 0.     , 0.     , 0.     , 0.     , 0.996  ,\n",
       "        1.     , 0.     , 0.     , 0.     , 0.     , 0.     , 0.     ,\n",
       "        0.0863 , 1.     , 1.     , 0.     , 1.     , 1.     , 1.     ,\n",
       "        0.9688 , 0.1059 , 1.     , 0.     , 0.     , 0.     , 0.     ],\n",
       "       [0.     , 0.     , 0.     , 0.     , 0.     , 0.     , 0.     ,\n",
       "        1.     , 0.9136 , 0.     , 0.     , 0.     , 0.     , 0.569  ,\n",
       "        1.     , 1.     , 0.     , 1.     , 1.     , 0.     , 1.     ,\n",
       "        1.     , 1.     , 1.     , 0.     , 0.     , 0.     , 0.     ],\n",
       "       [0.     , 0.     , 0.     , 0.     , 0.     , 0.     , 0.     ,\n",
       "        0.     , 1.     , 1.     , 0.     , 0.2313 , 1.     , 1.     ,\n",
       "        1.     , 0.     , 0.     , 0.     , 0.     , 0.     , 0.     ,\n",
       "        0.02745, 1.     , 1.     , 0.     , 0.     , 0.     , 0.     ],\n",
       "       [0.     , 0.     , 0.     , 0.     , 0.     , 0.     , 0.     ,\n",
       "        0.     , 0.     , 1.     , 1.     , 1.     , 1.     , 0.     ,\n",
       "        0.     , 0.     , 0.     , 0.     , 0.     , 0.     , 0.     ,\n",
       "        0.     , 0.7607 , 1.     , 0.749  , 0.     , 0.     , 0.     ],\n",
       "       [0.     , 0.     , 0.     , 0.     , 0.     , 0.     , 0.     ,\n",
       "        0.     , 0.     , 0.     , 0.     , 0.     , 0.     , 0.     ,\n",
       "        0.     , 0.     , 0.     , 0.     , 0.     , 0.     , 0.     ,\n",
       "        0.     , 0.     , 1.     , 0.     , 0.     , 0.     , 0.     ],\n",
       "       [0.     , 0.     , 0.     , 0.     , 0.     , 0.     , 0.     ,\n",
       "        0.     , 0.     , 0.     , 0.     , 0.     , 0.     , 0.     ,\n",
       "        0.     , 0.     , 0.     , 0.     , 0.     , 0.     , 0.     ,\n",
       "        0.     , 0.     , 0.     , 0.     , 0.     , 0.     , 0.     ],\n",
       "       [0.     , 0.     , 0.     , 0.     , 0.     , 0.     , 0.     ,\n",
       "        0.     , 0.     , 0.     , 0.     , 0.     , 0.     , 0.     ,\n",
       "        0.     , 0.     , 0.     , 0.     , 0.     , 0.     , 0.     ,\n",
       "        0.     , 0.     , 0.     , 0.     , 0.     , 0.     , 0.     ],\n",
       "       [0.     , 0.     , 0.     , 0.     , 0.     , 0.     , 0.     ,\n",
       "        0.     , 0.     , 0.     , 0.     , 0.     , 0.     , 0.     ,\n",
       "        0.     , 0.     , 0.     , 0.     , 0.     , 0.     , 0.     ,\n",
       "        0.     , 0.     , 0.     , 0.     , 0.     , 0.     , 0.     ],\n",
       "       [0.     , 0.     , 0.     , 0.     , 0.     , 0.     , 0.     ,\n",
       "        0.     , 0.     , 0.     , 0.     , 0.     , 0.     , 0.     ,\n",
       "        0.     , 0.     , 0.     , 0.     , 0.     , 0.     , 0.     ,\n",
       "        0.     , 0.     , 0.     , 0.     , 0.     , 0.     , 0.     ],\n",
       "       [0.     , 0.     , 0.     , 0.     , 0.     , 0.     , 0.     ,\n",
       "        0.     , 0.     , 0.     , 0.     , 0.     , 0.     , 0.     ,\n",
       "        0.     , 0.     , 0.     , 0.     , 0.     , 0.     , 0.     ,\n",
       "        0.     , 0.     , 0.     , 0.     , 0.     , 0.     , 0.     ]],\n",
       "      dtype=float16)"
      ]
     },
     "execution_count": 10,
     "metadata": {},
     "output_type": "execute_result"
    }
   ],
   "source": [
    "bangla_lekha[1,:784].reshape((28,28)).astype('float16')"
   ]
  },
  {
   "cell_type": "markdown",
   "metadata": {},
   "source": [
    "Primary data npy files"
   ]
  },
  {
   "cell_type": "code",
   "execution_count": 2,
   "metadata": {},
   "outputs": [],
   "source": [
    "# Define the directory path containing sub-folders of images\n",
    "direc_path = r'/home/sysadm/z/ML_P1/primary_data/fabricated_data'\n"
   ]
  },
  {
   "cell_type": "code",
   "execution_count": 3,
   "metadata": {},
   "outputs": [],
   "source": [
    "# Function to load and preprocess an image\n",
    "def load_and_preprocess_image(sub_folder, img_name):\n",
    "    img_path = os.path.join(direc_path, sub_folder, img_name)\n",
    "    img = cv2.imread(img_path, cv2.IMREAD_UNCHANGED)  # Read image in original form\n",
    "    img = cv2.resize(img, (28, 28))  # Resize image to a uniform size (e.g., 28x28)\n",
    "    img = img.flatten() / 255.0  # Flatten pixel values and normalize to range [0, 1]\n",
    "    label = int(sub_folder)  # Get the label from the sub-folder name\n",
    "    return img, label\n",
    "\n",
    "# Function to process images in a sub-folder\n",
    "def process_sub_folder(sub_folder):\n",
    "    sub_path = os.path.join(direc_path, sub_folder)\n",
    "    images = []\n",
    "    labels = []\n",
    "\n",
    "    # Loop through each image in the sub-folder\n",
    "    for img_name in os.listdir(sub_path):\n",
    "        img, label = load_and_preprocess_image(sub_folder, img_name)\n",
    "        images.append(img)\n",
    "        labels.append(label)  # Store label for the image\n",
    "        \n",
    "    return images, labels\n",
    "\n",
    "# List sub-folders (classes)\n",
    "sub_folders = os.listdir(direc_path)\n",
    "\n",
    "# Sort sub-folders numerically\n",
    "sub_folders.sort(key=lambda x: int(x))\n",
    "\n",
    "# Create Dask delayed objects for image processing\n",
    "delayed_results = [dask.delayed(process_sub_folder)(sub_folder) for sub_folder in sub_folders]\n",
    "\n",
    "# Compute delayed objects in parallel\n",
    "results = dask.compute(*delayed_results)\n"
   ]
  },
  {
   "cell_type": "code",
   "execution_count": 4,
   "metadata": {},
   "outputs": [],
   "source": [
    "\n",
    "# Flatten the list of lists of images and labels\n",
    "images_flat = [img for sublist in results for img in sublist[0]]\n",
    "labels_flat = [label for sublist in results for label in sublist[1]]\n",
    "\n",
    "# Convert lists to NumPy arrays\n",
    "images_array = np.array(images_flat)\n",
    "labels_array = np.array(labels_flat)\n",
    "\n",
    "# Save NumPy arrays to disk\n",
    "#np.save('images.npy', images_array)\n",
    "#np.save('labels.npy', labels_array)\n",
    "\n",
    "\n",
    "#Merging te images and labels.\n",
    "whole_primary_data=np.hstack([images_array,labels_array.reshape((labels_array.shape[0],1))])\n",
    "whole_primary_data[:,-1]\n",
    "\n",
    "#Saving the whole Ekush dataset in .npy format\n",
    "np.save('/home/sysadm/z/ML_P1/Data_npy_files/primary_data(fab).npy', whole_primary_data)"
   ]
  },
  {
   "cell_type": "code",
   "execution_count": 5,
   "metadata": {},
   "outputs": [
    {
     "data": {
      "text/plain": [
       "(2500, 785)"
      ]
     },
     "execution_count": 5,
     "metadata": {},
     "output_type": "execute_result"
    }
   ],
   "source": [
    "whole_primary_data.shape"
   ]
  },
  {
   "cell_type": "code",
   "execution_count": 6,
   "metadata": {},
   "outputs": [
    {
     "data": {
      "text/plain": [
       "array([[0.        , 0.        , 0.        , 0.        , 0.        ,\n",
       "        0.        , 0.        , 0.        , 0.        , 0.        ,\n",
       "        0.        , 0.        , 0.        , 0.        , 0.        ,\n",
       "        0.        , 0.        , 0.        , 0.        , 0.        ,\n",
       "        0.        , 0.        , 0.        , 0.        , 0.        ,\n",
       "        0.        , 0.        , 0.        ],\n",
       "       [0.        , 0.        , 0.        , 0.        , 0.        ,\n",
       "        0.        , 0.        , 0.        , 0.        , 0.        ,\n",
       "        0.        , 0.        , 0.        , 0.        , 0.        ,\n",
       "        0.        , 0.        , 0.        , 0.        , 0.        ,\n",
       "        0.        , 0.        , 0.        , 0.        , 0.        ,\n",
       "        0.        , 0.        , 0.        ],\n",
       "       [0.        , 0.        , 0.        , 0.        , 0.        ,\n",
       "        0.        , 0.        , 0.        , 0.        , 0.        ,\n",
       "        0.        , 0.        , 0.        , 0.        , 0.        ,\n",
       "        0.        , 0.        , 0.        , 0.        , 0.        ,\n",
       "        0.        , 0.        , 0.        , 0.        , 0.        ,\n",
       "        0.        , 0.        , 0.        ],\n",
       "       [0.        , 0.        , 0.        , 0.        , 0.        ,\n",
       "        0.        , 0.        , 0.        , 0.        , 0.        ,\n",
       "        0.        , 0.        , 0.        , 0.        , 0.        ,\n",
       "        0.        , 0.        , 0.        , 0.        , 0.        ,\n",
       "        0.        , 0.        , 0.        , 0.        , 0.        ,\n",
       "        0.        , 0.        , 0.        ],\n",
       "       [0.        , 0.        , 0.        , 0.        , 0.        ,\n",
       "        0.        , 0.        , 0.        , 0.        , 0.        ,\n",
       "        0.        , 0.        , 0.        , 0.        , 0.        ,\n",
       "        0.        , 0.        , 0.        , 0.        , 0.        ,\n",
       "        0.        , 0.        , 0.        , 0.        , 0.        ,\n",
       "        0.        , 0.        , 0.        ],\n",
       "       [0.        , 0.        , 0.        , 0.        , 0.        ,\n",
       "        0.        , 0.        , 0.        , 0.        , 0.        ,\n",
       "        0.        , 0.        , 0.        , 0.        , 0.        ,\n",
       "        0.        , 0.        , 0.        , 0.        , 0.        ,\n",
       "        0.        , 0.        , 0.        , 0.        , 0.        ,\n",
       "        0.        , 0.        , 0.        ],\n",
       "       [0.        , 0.        , 0.        , 0.        , 0.        ,\n",
       "        0.        , 0.        , 0.        , 0.        , 0.        ,\n",
       "        0.        , 0.        , 0.        , 0.        , 0.        ,\n",
       "        0.        , 0.        , 0.        , 0.        , 0.        ,\n",
       "        0.        , 0.        , 0.        , 0.        , 0.        ,\n",
       "        0.        , 0.        , 0.        ],\n",
       "       [0.        , 0.        , 0.        , 0.        , 0.        ,\n",
       "        0.        , 0.        , 0.        , 0.        , 0.        ,\n",
       "        0.        , 0.        , 0.        , 0.        , 0.        ,\n",
       "        0.        , 0.        , 0.        , 0.        , 0.        ,\n",
       "        0.        , 0.        , 0.        , 0.        , 0.        ,\n",
       "        0.        , 0.        , 0.        ],\n",
       "       [1.        , 1.        , 1.        , 1.        , 1.        ,\n",
       "        1.        , 1.        , 1.        , 1.        , 1.        ,\n",
       "        1.        , 1.        , 1.        , 0.8745098 , 0.8745098 ,\n",
       "        1.        , 1.        , 1.        , 1.        , 0.        ,\n",
       "        0.        , 0.        , 0.        , 0.        , 0.        ,\n",
       "        0.        , 0.        , 0.        ],\n",
       "       [0.        , 0.        , 0.        , 0.        , 0.62352941,\n",
       "        1.        , 1.        , 0.        , 0.        , 0.        ,\n",
       "        0.        , 0.        , 0.        , 0.        , 0.        ,\n",
       "        0.        , 0.        , 0.        , 0.        , 0.86666667,\n",
       "        1.        , 1.        , 1.        , 1.        , 0.62352941,\n",
       "        0.        , 0.        , 0.        ],\n",
       "       [0.        , 0.        , 0.        , 0.        , 0.        ,\n",
       "        0.        , 0.        , 0.        , 0.        , 0.        ,\n",
       "        0.        , 0.97254902, 1.        , 1.        , 1.        ,\n",
       "        1.        , 0.        , 0.        , 0.        , 0.        ,\n",
       "        1.        , 1.        , 0.        , 0.        , 0.        ,\n",
       "        0.        , 0.        , 0.        ],\n",
       "       [0.        , 0.        , 0.        , 1.        , 0.        ,\n",
       "        0.        , 0.        , 0.        , 0.        , 0.        ,\n",
       "        1.        , 1.        , 0.        , 1.        , 1.        ,\n",
       "        0.07843137, 1.        , 0.        , 0.        , 0.        ,\n",
       "        1.        , 1.        , 0.        , 0.        , 0.        ,\n",
       "        0.        , 0.        , 0.        ],\n",
       "       [0.        , 0.        , 0.        , 1.        , 1.        ,\n",
       "        0.        , 0.        , 0.        , 0.        , 0.        ,\n",
       "        1.        , 0.07058824, 0.35686275, 1.        , 0.        ,\n",
       "        0.        , 1.        , 0.0627451 , 0.        , 0.        ,\n",
       "        1.        , 1.        , 0.        , 0.        , 0.        ,\n",
       "        0.        , 0.        , 0.        ],\n",
       "       [0.        , 0.        , 0.        , 0.        , 1.        ,\n",
       "        0.23921569, 0.        , 0.        , 0.        , 0.        ,\n",
       "        1.        , 0.        , 1.        , 0.        , 0.        ,\n",
       "        0.        , 1.        , 1.        , 0.        , 0.        ,\n",
       "        1.        , 1.        , 0.        , 0.        , 0.        ,\n",
       "        0.        , 0.        , 0.        ],\n",
       "       [0.        , 0.        , 0.        , 0.        , 1.        ,\n",
       "        0.4       , 0.        , 0.        , 0.        , 0.        ,\n",
       "        1.        , 1.        , 0.23921569, 0.        , 0.        ,\n",
       "        0.        , 1.        , 1.        , 0.        , 0.        ,\n",
       "        1.        , 1.        , 0.        , 0.        , 0.        ,\n",
       "        0.        , 0.        , 0.        ],\n",
       "       [0.        , 0.        , 0.        , 0.        , 0.        ,\n",
       "        1.        , 0.        , 0.        , 0.        , 0.        ,\n",
       "        0.        , 0.        , 0.        , 0.        , 0.        ,\n",
       "        0.56078431, 1.        , 1.        , 0.        , 0.        ,\n",
       "        1.        , 1.        , 0.        , 0.        , 0.        ,\n",
       "        0.        , 0.        , 0.        ],\n",
       "       [0.        , 0.        , 0.        , 0.        , 0.        ,\n",
       "        1.        , 0.21568627, 0.        , 0.        , 0.        ,\n",
       "        0.        , 0.        , 0.        , 0.        , 0.        ,\n",
       "        1.        , 1.        , 1.        , 1.        , 1.        ,\n",
       "        1.        , 1.        , 0.        , 0.        , 0.        ,\n",
       "        0.        , 0.        , 0.        ],\n",
       "       [0.        , 0.        , 0.        , 0.        , 0.        ,\n",
       "        1.        , 1.        , 0.        , 0.        , 0.        ,\n",
       "        0.        , 0.        , 0.        , 0.        , 0.07843137,\n",
       "        1.        , 0.97254902, 0.        , 0.        , 1.        ,\n",
       "        1.        , 1.        , 0.        , 0.        , 0.        ,\n",
       "        0.        , 0.        , 0.        ],\n",
       "       [0.        , 0.        , 0.        , 0.        , 0.        ,\n",
       "        0.        , 1.        , 0.49019608, 0.        , 0.        ,\n",
       "        0.        , 0.        , 0.        , 0.49019608, 1.        ,\n",
       "        1.        , 0.        , 0.        , 0.        , 0.35686275,\n",
       "        1.        , 1.        , 0.        , 0.        , 0.        ,\n",
       "        0.        , 0.        , 0.        ],\n",
       "       [0.        , 0.        , 0.        , 0.        , 0.        ,\n",
       "        0.        , 0.        , 1.        , 1.        , 1.        ,\n",
       "        0.8745098 , 1.        , 1.        , 1.        , 0.        ,\n",
       "        0.        , 0.        , 0.        , 0.        , 0.        ,\n",
       "        1.        , 1.        , 0.        , 0.        , 0.        ,\n",
       "        0.        , 0.        , 0.        ],\n",
       "       [0.        , 0.        , 0.        , 0.        , 0.        ,\n",
       "        0.        , 0.        , 0.        , 0.        , 0.        ,\n",
       "        0.        , 0.        , 0.        , 0.        , 0.        ,\n",
       "        0.        , 0.        , 0.        , 0.        , 0.        ,\n",
       "        1.        , 1.        , 0.        , 0.        , 0.        ,\n",
       "        0.        , 0.        , 0.        ],\n",
       "       [0.        , 0.        , 0.        , 0.        , 0.        ,\n",
       "        0.        , 0.        , 0.        , 0.        , 0.        ,\n",
       "        0.        , 0.        , 0.        , 0.        , 0.        ,\n",
       "        0.        , 0.        , 0.        , 0.        , 0.        ,\n",
       "        0.        , 0.        , 0.        , 0.        , 0.        ,\n",
       "        0.        , 0.        , 0.        ],\n",
       "       [0.        , 0.        , 0.        , 0.        , 0.        ,\n",
       "        0.        , 0.        , 0.        , 0.        , 0.        ,\n",
       "        0.        , 0.        , 0.        , 0.        , 0.        ,\n",
       "        0.        , 0.        , 0.        , 0.        , 0.        ,\n",
       "        0.        , 0.        , 0.        , 0.        , 0.        ,\n",
       "        0.        , 0.        , 0.        ],\n",
       "       [0.        , 0.        , 0.        , 0.        , 0.        ,\n",
       "        0.        , 0.        , 0.        , 0.        , 0.        ,\n",
       "        0.        , 0.        , 0.        , 0.        , 0.        ,\n",
       "        0.        , 0.        , 0.        , 0.        , 0.        ,\n",
       "        0.        , 0.        , 0.        , 0.        , 0.        ,\n",
       "        0.        , 0.        , 0.        ],\n",
       "       [0.        , 0.        , 0.        , 0.        , 0.        ,\n",
       "        0.        , 0.        , 0.        , 0.        , 0.        ,\n",
       "        0.        , 0.        , 0.        , 0.        , 0.        ,\n",
       "        0.        , 0.        , 0.        , 0.        , 0.        ,\n",
       "        0.        , 0.        , 0.        , 0.        , 0.        ,\n",
       "        0.        , 0.        , 0.        ],\n",
       "       [0.        , 0.        , 0.        , 0.        , 0.        ,\n",
       "        0.        , 0.        , 0.        , 0.        , 0.        ,\n",
       "        0.        , 0.        , 0.        , 0.        , 0.        ,\n",
       "        0.        , 0.        , 0.        , 0.        , 0.        ,\n",
       "        0.        , 0.        , 0.        , 0.        , 0.        ,\n",
       "        0.        , 0.        , 0.        ],\n",
       "       [0.        , 0.        , 0.        , 0.        , 0.        ,\n",
       "        0.        , 0.        , 0.        , 0.        , 0.        ,\n",
       "        0.        , 0.        , 0.        , 0.        , 0.        ,\n",
       "        0.        , 0.        , 0.        , 0.        , 0.        ,\n",
       "        0.        , 0.        , 0.        , 0.        , 0.        ,\n",
       "        0.        , 0.        , 0.        ],\n",
       "       [0.        , 0.        , 0.        , 0.        , 0.        ,\n",
       "        0.        , 0.        , 0.        , 0.        , 0.        ,\n",
       "        0.        , 0.        , 0.        , 0.        , 0.        ,\n",
       "        0.        , 0.        , 0.        , 0.        , 0.        ,\n",
       "        0.        , 0.        , 0.        , 0.        , 0.        ,\n",
       "        0.        , 0.        , 0.        ]])"
      ]
     },
     "execution_count": 6,
     "metadata": {},
     "output_type": "execute_result"
    }
   ],
   "source": [
    "x=whole_primary_data[1,:784].reshape((28,28))\n",
    "x"
   ]
  },
  {
   "cell_type": "code",
   "execution_count": 7,
   "metadata": {},
   "outputs": [
    {
     "data": {
      "text/plain": [
       "<matplotlib.image.AxesImage at 0x7729ee512500>"
      ]
     },
     "execution_count": 7,
     "metadata": {},
     "output_type": "execute_result"
    },
    {
     "data": {
      "image/png": "[encoded data removed]",
      "text/plain": [
       "<Figure size 640x480 with 1 Axes>"
      ]
     },
     "metadata": {},
     "output_type": "display_data"
    }
   ],
   "source": [
    "plt.imshow(x)"
   ]
  }
 ],
 "metadata": {
  "kernelspec": {
   "display_name": "Python 3",
   "language": "python",
   "name": "python3"
  },
  "language_info": {
   "codemirror_mode": {
    "name": "ipython",
    "version": 3
   },
   "file_extension": ".py",
   "mimetype": "text/x-python",
   "name": "python",
   "nbconvert_exporter": "python",
   "pygments_lexer": "ipython3",
   "version": "3.10.12"
  }
 },
 "nbformat": 4,
 "nbformat_minor": 2
}
