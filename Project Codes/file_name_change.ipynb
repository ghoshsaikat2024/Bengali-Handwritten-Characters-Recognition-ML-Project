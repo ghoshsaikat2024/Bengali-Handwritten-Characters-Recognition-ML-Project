{
 "cells": [
  {
   "cell_type": "code",
   "execution_count": 2,
   "metadata": {},
   "outputs": [],
   "source": [
    "import os"
   ]
  },
  {
   "cell_type": "code",
   "execution_count": 5,
   "metadata": {},
   "outputs": [],
   "source": [
    "wholedata_path=r'C:\\Users\\saika\\OneDrive\\Desktop\\fabricated_data'\n",
    "#image_path=os.path.join(folder_path,)\n",
    "\n",
    "k=0\n",
    "g=0\n",
    "for j in os.listdir(wholedata_path):\n",
    "    folder_path=os.path.join(wholedata_path,j)\n",
    "    k=k%10\n",
    "\n",
    "    if k==0:\n",
    "        g+=1\n",
    "\n",
    "    i=0    \n",
    "    for img in os.listdir(folder_path):\n",
    "        new_name=f'row{g}_col{k}_1-50-{i}.png'\n",
    "        image_path=os.path.join(folder_path,img)\n",
    "        os.rename(image_path,os.path.join(folder_path,new_name))\n",
    "\n",
    "        i+=1\n",
    "    k+=1        "
   ]
  }
 ],
 "metadata": {
  "kernelspec": {
   "display_name": "Python 3",
   "language": "python",
   "name": "python3"
  },
  "language_info": {
   "codemirror_mode": {
    "name": "ipython",
    "version": 3
   },
   "file_extension": ".py",
   "mimetype": "text/x-python",
   "name": "python",
   "nbconvert_exporter": "python",
   "pygments_lexer": "ipython3",
   "version": "3.12.3"
  }
 },
 "nbformat": 4,
 "nbformat_minor": 2
}
