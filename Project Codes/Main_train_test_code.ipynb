{
 "cells": [
  {
   "cell_type": "code",
   "execution_count": 1,
   "metadata": {},
   "outputs": [],
   "source": [
    "import os\n",
    "import cv2\n",
    "import numpy as np\n",
    "import dask\n",
    "import dask.array as da\n",
    "import pandas as pd\n",
    "import matplotlib.pyplot as plt\n"
   ]
  },
  {
   "cell_type": "markdown",
   "metadata": {},
   "source": [
    "Loading Whole Ekush data in npy format."
   ]
  },
  {
   "cell_type": "code",
   "execution_count": 2,
   "metadata": {},
   "outputs": [
    {
     "name": "stdout",
     "output_type": "stream",
     "text": [
      "[[3.9215e-03 0.0000e+00 3.9215e-03 ... 3.9215e-03 1.1765e-02 1.0000e+00]\n",
      " [7.8430e-03 0.0000e+00 0.0000e+00 ... 0.0000e+00 0.0000e+00 1.0000e+00]\n",
      " [0.0000e+00 0.0000e+00 0.0000e+00 ... 0.0000e+00 0.0000e+00 1.0000e+00]\n",
      " ...\n",
      " [0.0000e+00 0.0000e+00 0.0000e+00 ... 0.0000e+00 0.0000e+00 5.0000e+01]\n",
      " [0.0000e+00 0.0000e+00 0.0000e+00 ... 0.0000e+00 0.0000e+00 5.0000e+01]\n",
      " [0.0000e+00 0.0000e+00 0.0000e+00 ... 0.0000e+00 0.0000e+00 5.0000e+01]]\n",
      "(149341, 785)\n"
     ]
    }
   ],
   "source": [
    "ekush_data_path_np='/home/sysadm/z/ML_P1/Data_npy_files/ekush_data.npy'\n",
    "ekush=np.load(ekush_data_path_np)\n",
    "print(ekush.astype('float16'))\n",
    "print(ekush.shape)"
   ]
  },
  {
   "cell_type": "markdown",
   "metadata": {},
   "source": [
    "Loading  Bangla lekha data in npy format"
   ]
  },
  {
   "cell_type": "code",
   "execution_count": 3,
   "metadata": {},
   "outputs": [
    {
     "name": "stdout",
     "output_type": "stream",
     "text": [
      "[[ 0.  0.  0. ...  0.  0.  1.]\n",
      " [ 0.  0.  0. ...  0.  0.  1.]\n",
      " [ 0.  0.  0. ...  0.  0.  1.]\n",
      " ...\n",
      " [ 0.  0.  0. ...  0.  0. 50.]\n",
      " [ 0.  0.  0. ...  0.  0. 50.]\n",
      " [ 0.  0.  0. ...  0.  0. 50.]]\n",
      "(86458, 785)\n"
     ]
    }
   ],
   "source": [
    "bangla_lekha_data_path_np='/home/sysadm/z/ML_P1/Clean_bangla_npy/clean_bangla_lekha_data.npy'\n",
    "bangla_isolated=np.load(bangla_lekha_data_path_np)\n",
    "print(bangla_isolated.astype('float16'))\n",
    "print(bangla_isolated.shape)"
   ]
  },
  {
   "cell_type": "code",
   "execution_count": 3,
   "metadata": {},
   "outputs": [],
   "source": [
    "#Importing the necessary modules\n",
    "from sklearn.model_selection import train_test_split\n",
    "from sklearn.naive_bayes import GaussianNB\n",
    "from sklearn.svm import SVC\n",
    "from sklearn.linear_model import LogisticRegression\n",
    "from sklearn.ensemble import RandomForestClassifier\n",
    "from sklearn.naive_bayes import MultinomialNB\n",
    "from sklearn.metrics import accuracy_score,confusion_matrix\n",
    "from sklearn.tree import DecisionTreeClassifier\n",
    "from sklearn.model_selection import GridSearchCV\n",
    "from sklearn.neighbors import KNeighborsClassifier"
   ]
  },
  {
   "cell_type": "markdown",
   "metadata": {},
   "source": [
    "# Training Part"
   ]
  },
  {
   "cell_type": "markdown",
   "metadata": {},
   "source": [
    "Training Random Forest and Logistic Regression"
   ]
  },
  {
   "cell_type": "code",
   "execution_count": 5,
   "metadata": {},
   "outputs": [
    {
     "name": "stdout",
     "output_type": "stream",
     "text": [
      "Training data set shape are: (149341, 784) and (149341,)\n",
      " Test dataset shapes are: (86458, 784) and (86458,) \n"
     ]
    }
   ],
   "source": [
    "X_train,y_train=ekush[:,:784],ekush[:,-1]\n",
    "X_test,y_test=bangla_isolated[:,:784],bangla_isolated[:,-1]\n",
    "print(f'Training data set shape are: {X_train.shape} and {y_train.shape}\\n Test dataset shapes are: {X_test.shape} and {y_test.shape} ')"
   ]
  },
  {
   "cell_type": "markdown",
   "metadata": {},
   "source": [
    "Accessing one image from the numpy array."
   ]
  },
  {
   "cell_type": "code",
   "execution_count": 6,
   "metadata": {},
   "outputs": [
    {
     "data": {
      "text/plain": [
       "(1606, 784)"
      ]
     },
     "execution_count": 6,
     "metadata": {},
     "output_type": "execute_result"
    }
   ],
   "source": [
    "X_test[y_test == 5].shape"
   ]
  },
  {
   "cell_type": "code",
   "execution_count": 38,
   "metadata": {},
   "outputs": [
    {
     "data": {
      "text/plain": [
       "<matplotlib.image.AxesImage at 0x759ffc184f50>"
      ]
     },
     "execution_count": 38,
     "metadata": {},
     "output_type": "execute_result"
    },
    {
     "data": {
      "image/png": "[encoded data removed]",
      "text/plain": [
       "<Figure size 640x480 with 1 Axes>"
      ]
     },
     "metadata": {},
     "output_type": "display_data"
    }
   ],
   "source": [
    "img=X_test[1,:784].reshape((28,28))\n",
    "\n",
    "plt.imshow(img)\n"
   ]
  },
  {
   "cell_type": "markdown",
   "metadata": {},
   "source": [
    "# Logistic Regression"
   ]
  },
  {
   "cell_type": "code",
   "execution_count": 13,
   "metadata": {},
   "outputs": [
    {
     "name": "stdout",
     "output_type": "stream",
     "text": [
      "Accuracy for Bangla isolated test data set by Logistic with multiclass is 0.43282287353397025\n"
     ]
    }
   ],
   "source": [
    "logistic_clf=LogisticRegression(penalty=\"l2\",C=0.3,solver='newton-cg',max_iter=400,multi_class='multinomial')\n",
    "logistic_clf.fit(X_train,y_train)\n",
    "bangla_predict_log=logistic_clf.predict(X_test)\n",
    "\n",
    "accuracy=accuracy_score(y_test,bangla_predict_log)\n",
    "print(f\"Accuracy for Bangla isolated test data set by Logistic with multiclass is {accuracy}\")\n",
    "### Confusion matrix ####\n",
    "cf=confusion_matrix(y_test,bangla_predict_log)\n",
    "df_cf=pd.DataFrame(cf)\n",
    "df_cf.to_csv('/home/sysadm/z/ML_P1/Confusion_matrix_folder/log_conf_matrix_bangla.csv')"
   ]
  },
  {
   "cell_type": "code",
   "execution_count": 43,
   "metadata": {},
   "outputs": [
    {
     "name": "stdout",
     "output_type": "stream",
     "text": [
      "total recall:[0.47510017 0.53052503 0.55800389 0.63915547 0.33499377 0.48165965\n",
      " 0.47445255 0.62712826 0.64182553 0.49541284 0.74680135 0.42736009\n",
      " 0.26219909 0.31335616 0.32415519 0.38358779 0.31048387 0.37064343\n",
      " 0.2631288  0.29974026 0.66744457 0.56895619 0.57683742 0.27930306\n",
      " 0.55414686 0.51753882 0.49283059 0.3960084  0.24930748 0.33662791\n",
      " 0.15865119 0.16868862 0.50688863 0.22786238 0.23343465 0.20288184\n",
      " 0.35824176 0.2308114  0.52361028 0.71020143 0.18355856 0.1720297\n",
      " 0.44947543 0.43938462 0.3837807  0.36836518 0.68237251 0.42973287\n",
      " 0.86451613 0.7966759 ], and \n",
      " precision:[0.30763529 0.41400667 0.41058655 0.49925037 0.32448733 0.34978166\n",
      " 0.48148148 0.59472551 0.44333599 0.68192581 0.38533704 0.61563518\n",
      " 0.33278282 0.35305466 0.25231369 0.60420842 0.53313551 0.41925701\n",
      " 0.4516129  0.55802708 0.61340483 0.37950938 0.38991344 0.36659737\n",
      " 0.4580786  0.45294414 0.40953222 0.3721619  0.56603774 0.38142292\n",
      " 0.51158645 0.52802893 0.56170483 0.51269036 0.36432638 0.2980525\n",
      " 0.33435897 0.40755082 0.31488138 0.15986544 0.33299285 0.25764597\n",
      " 0.60162602 0.51701665 0.65497076 0.4445868  0.7353644  0.71774976\n",
      " 0.91728465 0.63741135]\n"
     ]
    }
   ],
   "source": [
    "cf_log=confusion_matrix(y_test,bangla_predict_log)\n",
    "\n",
    "recall_log=np.diag(cf_log)/np.sum(cf_log,axis=1)\n",
    "precision_log=np.diag(cf_log)/np.sum(cf_log,axis=0)\n",
    "\n",
    "print(f'total recall:{recall_log}, and \\n precision:{precision_log}')"
   ]
  },
  {
   "cell_type": "markdown",
   "metadata": {},
   "source": [
    "# Random Forest"
   ]
  },
  {
   "cell_type": "markdown",
   "metadata": {},
   "source": [
    "Accuracy score for Bangla isolated with random forest trained on Ekush data is 0.5174188623377826(n_estimators:380)"
   ]
  },
  {
   "cell_type": "code",
   "execution_count": 31,
   "metadata": {},
   "outputs": [
    {
     "name": "stdout",
     "output_type": "stream",
     "text": [
      "Accuracy score for Bangla isolated with random forest trained on Ekush data is0.5165166901848296\n"
     ]
    }
   ],
   "source": [
    "random_forest_clf=RandomForestClassifier(n_estimators=400,min_samples_split=5)\n",
    "random_forest_clf.fit(X_train,y_train)\n",
    "bangla_predict_rf=random_forest_clf.predict(X_test)\n",
    "accuracy=accuracy_score(y_test,bangla_predict_rf)\n",
    "print(f'Accuracy score for Bangla isolated with random forest trained on Ekush data is{accuracy}')\n",
    "### Confusion matrix ####\n",
    "cf=confusion_matrix(y_test,bangla_predict_rf)\n",
    "df_cf=pd.DataFrame(cf)\n",
    "df_cf.to_csv('/home/sysadm/z/ML_P1/Confusion_matrix_folder/rf_conf_matrix_bangla.csv')"
   ]
  },
  {
   "cell_type": "code",
   "execution_count": 42,
   "metadata": {},
   "outputs": [
    {
     "name": "stdout",
     "output_type": "stream",
     "text": [
      "total recall:[0.4241557  0.78632479 0.6066105  0.43634037 0.25217933 0.23211064\n",
      " 0.52737226 0.67990919 0.53206239 0.38130734 0.64175084 0.40814019\n",
      " 0.44437215 0.42922374 0.27033792 0.42239186 0.50806452 0.43900804\n",
      " 0.33996683 0.50701299 0.76371062 0.6430503  0.62360802 0.34213305\n",
      " 0.59006867 0.81138585 0.5220393  0.6144958  0.67922438 0.40813953\n",
      " 0.40630182 0.49682265 0.56142365 0.53807107 0.2893617  0.24495677\n",
      " 0.4        0.38980263 0.59653317 0.58349578 0.24943694 0.21101485\n",
      " 0.46162341 0.58769231 0.59623073 0.44798301 0.82594235 0.7485482\n",
      " 0.93387097 0.89584488], and \n",
      " precision:[0.65983972 0.52960526 0.52941176 0.78211009 0.44069641 0.78137652\n",
      " 0.65831435 0.58268482 0.55750605 0.87155963 0.420194   0.82798165\n",
      " 0.48542999 0.45797808 0.63343109 0.73127753 0.63728324 0.54447215\n",
      " 0.51898734 0.53596925 0.65124378 0.49686586 0.39957189 0.62427746\n",
      " 0.53961353 0.43738376 0.63707064 0.47833197 0.24559295 0.63934426\n",
      " 0.73207171 0.66718386 0.63547758 0.70405904 0.56599287 0.45068929\n",
      " 0.44966028 0.51671512 0.57323377 0.53998797 0.27295132 0.42150803\n",
      " 0.74443455 0.49507517 0.62929476 0.55672823 0.44305679 0.48061148\n",
      " 0.60904628 0.31428571]\n"
     ]
    }
   ],
   "source": [
    "cf_rf=confusion_matrix(y_test,bangla_predict_rf)\n",
    "\n",
    "recall_rf=np.diag(cf_rf)/np.sum(cf_rf,axis=1)\n",
    "precision_rf=np.diag(cf_rf)/np.sum(cf_rf,axis=0)\n",
    "\n",
    "print(f'total recall:{recall_rf}, and \\n precision:{precision_rf}')"
   ]
  },
  {
   "cell_type": "markdown",
   "metadata": {},
   "source": [
    "## Naïve Bayes classifier"
   ]
  },
  {
   "cell_type": "markdown",
   "metadata": {},
   "source": [
    "Bayes classifier(Multinomial,alpha=30) accuracy on Bangla Lekha isolated is:0.38043905711443704"
   ]
  },
  {
   "cell_type": "code",
   "execution_count": 30,
   "metadata": {},
   "outputs": [
    {
     "name": "stdout",
     "output_type": "stream",
     "text": [
      "Bayes classifier accuracy on Bangla Lekha isolated is:0.38043905711443704\n"
     ]
    }
   ],
   "source": [
    "bayes_clf=MultinomialNB(alpha = 30)\n",
    "bayes_clf.fit(X_train,y_train)\n",
    "bayes_prediction=bayes_clf.predict(X_test)\n",
    "bayes_accuracy=accuracy_score(y_test,bayes_prediction)\n",
    "print(f'Bayes classifier accuracy on Bangla Lekha isolated is:{bayes_accuracy}')"
   ]
  },
  {
   "cell_type": "code",
   "execution_count": 44,
   "metadata": {},
   "outputs": [
    {
     "name": "stdout",
     "output_type": "stream",
     "text": [
      "total recall:[0.2501431  0.72954823 0.52819183 0.4600128  0.30323786 0.4539988\n",
      " 0.39172749 0.65664018 0.63258232 0.63990826 0.68350168 0.26229508\n",
      " 0.40988939 0.23515982 0.13579474 0.33142494 0.21889401 0.29825737\n",
      " 0.26091763 0.27636364 0.6756126  0.45754462 0.57071269 0.18321014\n",
      " 0.29741152 0.60609546 0.22782793 0.41596639 0.32576177 0.30116279\n",
      " 0.19347706 0.22068169 0.37657865 0.17710096 0.08449848 0.04841499\n",
      " 0.12527473 0.21162281 0.34608488 0.44574399 0.0884009  0.06188119\n",
      " 0.32578686 0.48615385 0.64306111 0.24416136 0.73558758 0.49593496\n",
      " 0.9        0.65484765], and \n",
      " precision:[0.25100517 0.20782609 0.41816316 0.6340388  0.37175573 0.4143798\n",
      " 0.44972067 0.50991626 0.42294322 0.44023669 0.38043478 0.43283582\n",
      " 0.25372533 0.2312009  0.22770199 0.50978474 0.40254237 0.30292716\n",
      " 0.55594817 0.19047619 0.59021407 0.3977433  0.40275049 0.40208575\n",
      " 0.35610373 0.34591401 0.41131352 0.20582121 0.32414553 0.37920937\n",
      " 0.34381139 0.3975026  0.4852071  0.35241302 0.37265416 0.14608696\n",
      " 0.24307036 0.22573099 0.31365114 0.26293599 0.2512     0.29761905\n",
      " 0.41258741 0.38706516 0.34678164 0.37156704 0.67877238 0.65041889\n",
      " 0.86511628 0.90713738]\n"
     ]
    }
   ],
   "source": [
    "cf_bayes=confusion_matrix(y_test,bayes_prediction)\n",
    "\n",
    "recall_bayes=np.diag(cf_bayes)/np.sum(cf_bayes,axis=1)\n",
    "precision_bayes=np.diag(cf_bayes)/np.sum(cf_bayes,axis=0)\n",
    "\n",
    "print(f'total recall:{recall_bayes}, and \\n precision:{precision_bayes}')"
   ]
  },
  {
   "cell_type": "markdown",
   "metadata": {},
   "source": [
    "# Decision Tree"
   ]
  },
  {
   "cell_type": "code",
   "execution_count": 40,
   "metadata": {},
   "outputs": [
    {
     "name": "stdout",
     "output_type": "stream",
     "text": [
      "Best parameters: {'max_depth': None, 'min_samples_leaf': 4, 'min_samples_split': 10}\n",
      "Best cross-validation score: 0.34318103789161963\n",
      "Best Decision Tree classifier accuracy on Bangla Lekha isolated is: 0.20789284970737237\n"
     ]
    }
   ],
   "source": [
    "from sklearn.tree import DecisionTreeClassifier\n",
    "from sklearn.model_selection import GridSearchCV\n",
    "\n",
    "# Define the hyperparameters grid\n",
    "param_grid = {\n",
    "    'max_depth': [None, 10, 20, 30],  # Maximum depth of the tree\n",
    "    'min_samples_split': [2, 5, 10],   # Minimum number of samples required to split a node\n",
    "    'min_samples_leaf': [1, 2, 4]      # Minimum number of samples required at each leaf node\n",
    "}\n",
    "\n",
    "# Instantiate the decision tree classifier\n",
    "tree_clf = DecisionTreeClassifier()\n",
    "\n",
    "# Instantiate the grid search\n",
    "grid_search = GridSearchCV(tree_clf, param_grid, cv=5, scoring='accuracy')\n",
    "\n",
    "# Fit the grid search to the data\n",
    "grid_search.fit(X_train, y_train)\n",
    "\n",
    "# Get the best parameters and the best score\n",
    "best_params = grid_search.best_params_\n",
    "best_score = grid_search.best_score_\n",
    "\n",
    "print(\"Best parameters:\", best_params)\n",
    "print(\"Best cross-validation score:\", best_score)\n",
    "\n",
    "# Use the best parameters to train the model\n",
    "best_tree_clf = grid_search.best_estimator_\n",
    "best_tree_clf.fit(X_train, y_train)\n",
    "\n",
    "# Make predictions on the test data\n",
    "best_tree_prediction = best_tree_clf.predict(X_test)\n",
    "\n",
    "# Calculate accuracy\n",
    "best_tree_accuracy = accuracy_score(y_test, best_tree_prediction)\n",
    "\n",
    "print(f'Best Decision Tree classifier accuracy on Bangla Lekha isolated is: {best_tree_accuracy}')\n",
    "\n"
   ]
  },
  {
   "cell_type": "code",
   "execution_count": 7,
   "metadata": {},
   "outputs": [
    {
     "name": "stdout",
     "output_type": "stream",
     "text": [
      "Best parameters: {'min_samples_leaf': 12, 'min_samples_split': 12}\n",
      "Best cross-validation score: 0.3529573141966069\n",
      "Best Decision Tree classifier accuracy on Bangla Lekha isolated is: 0.21945915936061441\n"
     ]
    }
   ],
   "source": [
    "\n",
    "# Define the hyperparameters grid\n",
    "param_grid = {\n",
    "\n",
    "    'min_samples_split': [12,15,20],   # Minimum number of samples required to split a node\n",
    "    'min_samples_leaf': [5,7,10,12]      # Minimum number of samples required at each leaf node\n",
    "}\n",
    "\n",
    "# Instantiate the decision tree classifier\n",
    "tree_clf = DecisionTreeClassifier()\n",
    "\n",
    "# Instantiate the grid search\n",
    "grid_search = GridSearchCV(tree_clf, param_grid, cv=4, scoring='accuracy')\n",
    "\n",
    "# Fit the grid search to the data\n",
    "grid_search.fit(X_train, y_train)\n",
    "\n",
    "# Get the best parameters and the best score\n",
    "best_params = grid_search.best_params_\n",
    "best_score = grid_search.best_score_\n",
    "\n",
    "print(\"Best parameters:\", best_params)\n",
    "print(\"Best cross-validation score:\", best_score)\n",
    "\n",
    "# Use the best parameters to train the model\n",
    "best_tree_clf = grid_search.best_estimator_\n",
    "best_tree_clf.fit(X_train, y_train)\n",
    "\n",
    "# Make predictions on the test data\n",
    "best_tree_prediction = best_tree_clf.predict(X_test)\n",
    "\n",
    "# Calculate accuracy\n",
    "best_tree_accuracy = accuracy_score(y_test, best_tree_prediction)\n",
    "\n",
    "print(f'Best Decision Tree classifier accuracy on Bangla Lekha isolated is: {best_tree_accuracy}')\n",
    "\n"
   ]
  },
  {
   "cell_type": "markdown",
   "metadata": {},
   "source": [
    "Checking whether there is any difference between cross and holdout validation."
   ]
  },
  {
   "cell_type": "code",
   "execution_count": 45,
   "metadata": {},
   "outputs": [],
   "source": [
    "X_train1,X_val1,y_train1,y_val1=train_test_split(ekush[:,:784],ekush[:,-1],test_size=0.2,random_state=42)\n"
   ]
  },
  {
   "cell_type": "code",
   "execution_count": 46,
   "metadata": {},
   "outputs": [
    {
     "name": "stdout",
     "output_type": "stream",
     "text": [
      "tree1 hold out validation accuracy is:0.3458769962168134\n"
     ]
    }
   ],
   "source": [
    "\n",
    "tree_clf1 = DecisionTreeClassifier(min_samples_leaf=5,min_samples_split=5)\n",
    "tree_clf1.fit(X_train1,y_train1)\n",
    "pred1=tree_clf1.predict(X_val1)\n",
    "tree_clf1_accuracy=accuracy_score(y_val1,pred1)\n",
    "\n",
    "print(f\"tree1 hold out validation accuracy is:{tree_clf1_accuracy}\")"
   ]
  },
  {
   "cell_type": "code",
   "execution_count": 9,
   "metadata": {},
   "outputs": [
    {
     "name": "stdout",
     "output_type": "stream",
     "text": [
      "tree1 hold out validation accuracy is:0.3475509725802672 with min sample leaf:5 and min sample split:10\n",
      "tree1 hold out validation accuracy is:0.3468479025076166 with min sample leaf:5 and min sample split:11\n",
      "tree1 hold out validation accuracy is:0.3475509725802672 with min sample leaf:5 and min sample split:12\n",
      "tree1 hold out validation accuracy is:0.34691486156215473 with min sample leaf:5 and min sample split:13\n",
      "tree1 hold out validation accuracy is:0.3477853292711507 with min sample leaf:5 and min sample split:14\n",
      "tree1 hold out validation accuracy is:0.3490910308346446 with min sample leaf:5 and min sample split:15\n",
      "tree1 hold out validation accuracy is:0.3505641300344839 with min sample leaf:5 and min sample split:16\n",
      "tree1 hold out validation accuracy is:0.3506310890890221 with min sample leaf:5 and min sample split:17\n",
      "tree1 hold out validation accuracy is:0.3520037497070541 with min sample leaf:5 and min sample split:18\n",
      "tree1 hold out validation accuracy is:0.35210418828886136 with min sample leaf:5 and min sample split:19\n",
      "tree1 hold out validation accuracy is:0.3521711473433995 with min sample leaf:5 and min sample split:20\n",
      "tree1 hold out validation accuracy is:0.35143459774347985 with min sample leaf:5 and min sample split:21\n",
      "tree1 hold out validation accuracy is:0.3517693930161706 with min sample leaf:5 and min sample split:22\n",
      "tree1 hold out validation accuracy is:0.35173591348890154 with min sample leaf:5 and min sample split:23\n",
      "tree1 hold out validation accuracy is:0.3525394221433593 with min sample leaf:5 and min sample split:24\n",
      "tree1 hold out validation accuracy is:0.35036325287086945 with min sample leaf:7 and min sample split:10\n",
      "tree1 hold out validation accuracy is:0.3514680772707489 with min sample leaf:7 and min sample split:11\n",
      "tree1 hold out validation accuracy is:0.3509324048344437 with min sample leaf:7 and min sample split:12\n",
      "tree1 hold out validation accuracy is:0.3515350363252871 with min sample leaf:7 and min sample split:13\n",
      "tree1 hold out validation accuracy is:0.3509993638889819 with min sample leaf:7 and min sample split:14\n",
      "tree1 hold out validation accuracy is:0.3516689544343634 with min sample leaf:7 and min sample split:15\n",
      "tree1 hold out validation accuracy is:0.3522046268706686 with min sample leaf:7 and min sample split:16\n",
      "tree1 hold out validation accuracy is:0.35304161505239545 with min sample leaf:7 and min sample split:17\n",
      "tree1 hold out validation accuracy is:0.3533764103250862 with min sample leaf:7 and min sample split:18\n",
      "tree1 hold out validation accuracy is:0.3532424922160099 with min sample leaf:7 and min sample split:19\n",
      "tree1 hold out validation accuracy is:0.3534098898523553 with min sample leaf:7 and min sample split:20\n",
      "tree1 hold out validation accuracy is:0.35464863236131106 with min sample leaf:7 and min sample split:21\n",
      "tree1 hold out validation accuracy is:0.354615152834042 with min sample leaf:7 and min sample split:22\n",
      "tree1 hold out validation accuracy is:0.354615152834042 with min sample leaf:7 and min sample split:23\n",
      "tree1 hold out validation accuracy is:0.3545481937795038 with min sample leaf:7 and min sample split:24\n",
      "tree1 hold out validation accuracy is:0.355519100070307 with min sample leaf:9 and min sample split:10\n",
      "tree1 hold out validation accuracy is:0.35612173156115035 with min sample leaf:9 and min sample split:11\n",
      "tree1 hold out validation accuracy is:0.3562891291974957 with min sample leaf:9 and min sample split:12\n",
      "tree1 hold out validation accuracy is:0.3558538953429978 with min sample leaf:9 and min sample split:13\n",
      "tree1 hold out validation accuracy is:0.3556195386521142 with min sample leaf:9 and min sample split:14\n",
      "tree1 hold out validation accuracy is:0.35545214101576883 with min sample leaf:9 and min sample split:15\n",
      "tree1 hold out validation accuracy is:0.35558605912484514 with min sample leaf:9 and min sample split:16\n",
      "tree1 hold out validation accuracy is:0.35602129297934315 with min sample leaf:9 and min sample split:17\n",
      "tree1 hold out validation accuracy is:0.3556864977066524 with min sample leaf:9 and min sample split:18\n",
      "tree1 hold out validation accuracy is:0.355519100070307 with min sample leaf:9 and min sample split:19\n",
      "tree1 hold out validation accuracy is:0.3571595969064917 with min sample leaf:9 and min sample split:20\n",
      "tree1 hold out validation accuracy is:0.35749439217918244 with min sample leaf:9 and min sample split:21\n",
      "tree1 hold out validation accuracy is:0.3578291874518732 with min sample leaf:9 and min sample split:22\n",
      "tree1 hold out validation accuracy is:0.3573604740701061 with min sample leaf:9 and min sample split:23\n",
      "tree1 hold out validation accuracy is:0.3579965850882186 with min sample leaf:9 and min sample split:24\n",
      "tree1 hold out validation accuracy is:0.3582309417791021 with min sample leaf:11 and min sample split:10\n",
      "tree1 hold out validation accuracy is:0.3589005323244836 with min sample leaf:11 and min sample split:11\n",
      "tree1 hold out validation accuracy is:0.35896749137902173 with min sample leaf:11 and min sample split:12\n",
      "tree1 hold out validation accuracy is:0.35839833941544746 with min sample leaf:11 and min sample split:13\n",
      "tree1 hold out validation accuracy is:0.358632696106331 with min sample leaf:11 and min sample split:14\n",
      "tree1 hold out validation accuracy is:0.3583648598881784 with min sample leaf:11 and min sample split:15\n",
      "tree1 hold out validation accuracy is:0.3588335732699454 with min sample leaf:11 and min sample split:16\n",
      "tree1 hold out validation accuracy is:0.3588335732699454 with min sample leaf:11 and min sample split:17\n",
      "tree1 hold out validation accuracy is:0.35843181894271653 with min sample leaf:11 and min sample split:18\n",
      "tree1 hold out validation accuracy is:0.3583648598881784 with min sample leaf:11 and min sample split:19\n",
      "tree1 hold out validation accuracy is:0.35826442130637115 with min sample leaf:11 and min sample split:20\n",
      "tree1 hold out validation accuracy is:0.35809702367002577 with min sample leaf:11 and min sample split:21\n",
      "tree1 hold out validation accuracy is:0.3587331346881382 with min sample leaf:11 and min sample split:22\n",
      "tree1 hold out validation accuracy is:0.3586996551608691 with min sample leaf:11 and min sample split:23\n",
      "tree1 hold out validation accuracy is:0.35849877799725466 with min sample leaf:11 and min sample split:24\n",
      "tree1 hold out validation accuracy is:0.3569921992701463 with min sample leaf:13 and min sample split:10\n",
      "tree1 hold out validation accuracy is:0.3569252402156082 with min sample leaf:13 and min sample split:11\n",
      "tree1 hold out validation accuracy is:0.35719307643376075 with min sample leaf:13 and min sample split:12\n",
      "tree1 hold out validation accuracy is:0.35695871974287724 with min sample leaf:13 and min sample split:13\n",
      "tree1 hold out validation accuracy is:0.35709263785195355 with min sample leaf:13 and min sample split:14\n",
      "tree1 hold out validation accuracy is:0.35702567879741537 with min sample leaf:13 and min sample split:15\n",
      "tree1 hold out validation accuracy is:0.35665740399745555 with min sample leaf:13 and min sample split:16\n",
      "tree1 hold out validation accuracy is:0.3573939535973752 with min sample leaf:13 and min sample split:17\n",
      "tree1 hold out validation accuracy is:0.3569921992701463 with min sample leaf:13 and min sample split:18\n",
      "tree1 hold out validation accuracy is:0.35719307643376075 with min sample leaf:13 and min sample split:19\n",
      "tree1 hold out validation accuracy is:0.3572265559610298 with min sample leaf:13 and min sample split:20\n",
      "tree1 hold out validation accuracy is:0.35719307643376075 with min sample leaf:13 and min sample split:21\n",
      "tree1 hold out validation accuracy is:0.35689176068833905 with min sample leaf:13 and min sample split:22\n",
      "tree1 hold out validation accuracy is:0.357293515015568 with min sample leaf:13 and min sample split:23\n",
      "tree1 hold out validation accuracy is:0.35689176068833905 with min sample leaf:13 and min sample split:24\n",
      "tree1 hold out validation accuracy is:0.35695871974287724 with min sample leaf:15 and min sample split:10\n",
      "tree1 hold out validation accuracy is:0.3571261173792226 with min sample leaf:15 and min sample split:11\n",
      "tree1 hold out validation accuracy is:0.35695871974287724 with min sample leaf:15 and min sample split:12\n",
      "tree1 hold out validation accuracy is:0.35702567879741537 with min sample leaf:15 and min sample split:13\n",
      "tree1 hold out validation accuracy is:0.35679132210653186 with min sample leaf:15 and min sample split:14\n",
      "tree1 hold out validation accuracy is:0.3571595969064917 with min sample leaf:15 and min sample split:15\n",
      "tree1 hold out validation accuracy is:0.35702567879741537 with min sample leaf:15 and min sample split:16\n",
      "tree1 hold out validation accuracy is:0.35665740399745555 with min sample leaf:15 and min sample split:17\n",
      "tree1 hold out validation accuracy is:0.3571261173792226 with min sample leaf:15 and min sample split:18\n",
      "tree1 hold out validation accuracy is:0.3571595969064917 with min sample leaf:15 and min sample split:19\n",
      "tree1 hold out validation accuracy is:0.35685828116107 with min sample leaf:15 and min sample split:20\n",
      "tree1 hold out validation accuracy is:0.3572265559610298 with min sample leaf:15 and min sample split:21\n",
      "tree1 hold out validation accuracy is:0.35709263785195355 with min sample leaf:15 and min sample split:22\n",
      "tree1 hold out validation accuracy is:0.3572265559610298 with min sample leaf:15 and min sample split:23\n",
      "tree1 hold out validation accuracy is:0.3572265559610298 with min sample leaf:15 and min sample split:24\n",
      "tree1 hold out validation accuracy is:0.35494994810673275 with min sample leaf:17 and min sample split:10\n",
      "tree1 hold out validation accuracy is:0.3550169071612709 with min sample leaf:17 and min sample split:11\n",
      "tree1 hold out validation accuracy is:0.3551173457430781 with min sample leaf:17 and min sample split:12\n",
      "tree1 hold out validation accuracy is:0.3549834276340018 with min sample leaf:17 and min sample split:13\n",
      "tree1 hold out validation accuracy is:0.35488298905219456 with min sample leaf:17 and min sample split:14\n",
      "tree1 hold out validation accuracy is:0.3551173457430781 with min sample leaf:17 and min sample split:15\n",
      "tree1 hold out validation accuracy is:0.35488298905219456 with min sample leaf:17 and min sample split:16\n",
      "tree1 hold out validation accuracy is:0.355083866215809 with min sample leaf:17 and min sample split:17\n",
      "tree1 hold out validation accuracy is:0.35488298905219456 with min sample leaf:17 and min sample split:18\n",
      "tree1 hold out validation accuracy is:0.35494994810673275 with min sample leaf:17 and min sample split:19\n",
      "tree1 hold out validation accuracy is:0.3549164685794637 with min sample leaf:17 and min sample split:20\n",
      "tree1 hold out validation accuracy is:0.35488298905219456 with min sample leaf:17 and min sample split:21\n",
      "tree1 hold out validation accuracy is:0.35505038668853994 with min sample leaf:17 and min sample split:22\n",
      "tree1 hold out validation accuracy is:0.35505038668853994 with min sample leaf:17 and min sample split:23\n",
      "tree1 hold out validation accuracy is:0.3549164685794637 with min sample leaf:17 and min sample split:24\n",
      "tree1 hold out validation accuracy is:0.3556195386521142 with min sample leaf:19 and min sample split:10\n",
      "tree1 hold out validation accuracy is:0.3557869362884596 with min sample leaf:19 and min sample split:11\n",
      "tree1 hold out validation accuracy is:0.3557869362884596 with min sample leaf:19 and min sample split:12\n",
      "tree1 hold out validation accuracy is:0.3558204158157287 with min sample leaf:19 and min sample split:13\n",
      "tree1 hold out validation accuracy is:0.3556864977066524 with min sample leaf:19 and min sample split:14\n",
      "tree1 hold out validation accuracy is:0.3558204158157287 with min sample leaf:19 and min sample split:15\n",
      "tree1 hold out validation accuracy is:0.3558538953429978 with min sample leaf:19 and min sample split:16\n",
      "tree1 hold out validation accuracy is:0.3557869362884596 with min sample leaf:19 and min sample split:17\n",
      "tree1 hold out validation accuracy is:0.3557534567611905 with min sample leaf:19 and min sample split:18\n",
      "tree1 hold out validation accuracy is:0.3556864977066524 with min sample leaf:19 and min sample split:19\n",
      "tree1 hold out validation accuracy is:0.35558605912484514 with min sample leaf:19 and min sample split:20\n",
      "tree1 hold out validation accuracy is:0.35565301817938333 with min sample leaf:19 and min sample split:21\n",
      "tree1 hold out validation accuracy is:0.3557869362884596 with min sample leaf:19 and min sample split:22\n",
      "tree1 hold out validation accuracy is:0.3556864977066524 with min sample leaf:19 and min sample split:23\n",
      "tree1 hold out validation accuracy is:0.3557869362884596 with min sample leaf:19 and min sample split:24\n",
      "tree1 hold out validation accuracy is:0.3538451237068533 with min sample leaf:21 and min sample split:10\n",
      "tree1 hold out validation accuracy is:0.35374468512504603 with min sample leaf:21 and min sample split:11\n",
      "tree1 hold out validation accuracy is:0.35381164417958416 with min sample leaf:21 and min sample split:12\n",
      "tree1 hold out validation accuracy is:0.3538451237068533 with min sample leaf:21 and min sample split:13\n",
      "tree1 hold out validation accuracy is:0.3537781646523151 with min sample leaf:21 and min sample split:14\n",
      "tree1 hold out validation accuracy is:0.3539120827613914 with min sample leaf:21 and min sample split:15\n",
      "tree1 hold out validation accuracy is:0.3537781646523151 with min sample leaf:21 and min sample split:16\n",
      "tree1 hold out validation accuracy is:0.35381164417958416 with min sample leaf:21 and min sample split:17\n",
      "tree1 hold out validation accuracy is:0.35381164417958416 with min sample leaf:21 and min sample split:18\n",
      "tree1 hold out validation accuracy is:0.3538451237068533 with min sample leaf:21 and min sample split:19\n",
      "tree1 hold out validation accuracy is:0.3538451237068533 with min sample leaf:21 and min sample split:20\n",
      "tree1 hold out validation accuracy is:0.35381164417958416 with min sample leaf:21 and min sample split:21\n",
      "tree1 hold out validation accuracy is:0.35381164417958416 with min sample leaf:21 and min sample split:22\n",
      "tree1 hold out validation accuracy is:0.35381164417958416 with min sample leaf:21 and min sample split:23\n",
      "tree1 hold out validation accuracy is:0.35387860323412235 with min sample leaf:21 and min sample split:24\n",
      "tree1 hold out validation accuracy is:0.3547490709431183 with min sample leaf:23 and min sample split:10\n",
      "tree1 hold out validation accuracy is:0.35481602999765643 with min sample leaf:23 and min sample split:11\n",
      "tree1 hold out validation accuracy is:0.3547490709431183 with min sample leaf:23 and min sample split:12\n",
      "tree1 hold out validation accuracy is:0.35481602999765643 with min sample leaf:23 and min sample split:13\n",
      "tree1 hold out validation accuracy is:0.3547155914158492 with min sample leaf:23 and min sample split:14\n",
      "tree1 hold out validation accuracy is:0.35464863236131106 with min sample leaf:23 and min sample split:15\n",
      "tree1 hold out validation accuracy is:0.35478255047038737 with min sample leaf:23 and min sample split:16\n",
      "tree1 hold out validation accuracy is:0.3547490709431183 with min sample leaf:23 and min sample split:17\n",
      "tree1 hold out validation accuracy is:0.35481602999765643 with min sample leaf:23 and min sample split:18\n",
      "tree1 hold out validation accuracy is:0.3547155914158492 with min sample leaf:23 and min sample split:19\n",
      "tree1 hold out validation accuracy is:0.3548495095249255 with min sample leaf:23 and min sample split:20\n",
      "tree1 hold out validation accuracy is:0.3548495095249255 with min sample leaf:23 and min sample split:21\n",
      "tree1 hold out validation accuracy is:0.3547155914158492 with min sample leaf:23 and min sample split:22\n",
      "tree1 hold out validation accuracy is:0.3548495095249255 with min sample leaf:23 and min sample split:23\n",
      "tree1 hold out validation accuracy is:0.3546821118885801 with min sample leaf:23 and min sample split:24\n",
      "tree1 hold out validation accuracy is:0.3528742174160501 with min sample leaf:25 and min sample split:10\n",
      "tree1 hold out validation accuracy is:0.3528742174160501 with min sample leaf:25 and min sample split:11\n",
      "tree1 hold out validation accuracy is:0.35290769694331914 with min sample leaf:25 and min sample split:12\n",
      "tree1 hold out validation accuracy is:0.35280725836151194 with min sample leaf:25 and min sample split:13\n",
      "tree1 hold out validation accuracy is:0.35280725836151194 with min sample leaf:25 and min sample split:14\n",
      "tree1 hold out validation accuracy is:0.352840737888781 with min sample leaf:25 and min sample split:15\n",
      "tree1 hold out validation accuracy is:0.35290769694331914 with min sample leaf:25 and min sample split:16\n",
      "tree1 hold out validation accuracy is:0.3528742174160501 with min sample leaf:25 and min sample split:17\n",
      "tree1 hold out validation accuracy is:0.3528742174160501 with min sample leaf:25 and min sample split:18\n",
      "tree1 hold out validation accuracy is:0.35280725836151194 with min sample leaf:25 and min sample split:19\n",
      "tree1 hold out validation accuracy is:0.352840737888781 with min sample leaf:25 and min sample split:20\n",
      "tree1 hold out validation accuracy is:0.35280725836151194 with min sample leaf:25 and min sample split:21\n",
      "tree1 hold out validation accuracy is:0.35280725836151194 with min sample leaf:25 and min sample split:22\n",
      "tree1 hold out validation accuracy is:0.3527737788342429 with min sample leaf:25 and min sample split:23\n",
      "tree1 hold out validation accuracy is:0.352840737888781 with min sample leaf:25 and min sample split:24\n",
      "tree1 hold out validation accuracy is:0.3517024339616325 with min sample leaf:27 and min sample split:10\n",
      "tree1 hold out validation accuracy is:0.35183635207070874 with min sample leaf:27 and min sample split:11\n",
      "tree1 hold out validation accuracy is:0.35156851585255616 with min sample leaf:27 and min sample split:12\n",
      "tree1 hold out validation accuracy is:0.35156851585255616 with min sample leaf:27 and min sample split:13\n",
      "tree1 hold out validation accuracy is:0.3516689544343634 with min sample leaf:27 and min sample split:14\n",
      "tree1 hold out validation accuracy is:0.35180287254343967 with min sample leaf:27 and min sample split:15\n",
      "tree1 hold out validation accuracy is:0.35173591348890154 with min sample leaf:27 and min sample split:16\n",
      "tree1 hold out validation accuracy is:0.3517024339616325 with min sample leaf:27 and min sample split:17\n",
      "tree1 hold out validation accuracy is:0.3517024339616325 with min sample leaf:27 and min sample split:18\n",
      "tree1 hold out validation accuracy is:0.35183635207070874 with min sample leaf:27 and min sample split:19\n",
      "tree1 hold out validation accuracy is:0.3516019953798252 with min sample leaf:27 and min sample split:20\n",
      "tree1 hold out validation accuracy is:0.3516019953798252 with min sample leaf:27 and min sample split:21\n",
      "tree1 hold out validation accuracy is:0.35173591348890154 with min sample leaf:27 and min sample split:22\n",
      "tree1 hold out validation accuracy is:0.3516019953798252 with min sample leaf:27 and min sample split:23\n",
      "tree1 hold out validation accuracy is:0.35180287254343967 with min sample leaf:27 and min sample split:24\n",
      "tree1 hold out validation accuracy is:0.3503967323981385 with min sample leaf:29 and min sample split:10\n",
      "tree1 hold out validation accuracy is:0.3503967323981385 with min sample leaf:29 and min sample split:11\n",
      "tree1 hold out validation accuracy is:0.3503967323981385 with min sample leaf:29 and min sample split:12\n",
      "tree1 hold out validation accuracy is:0.35043021192540763 with min sample leaf:29 and min sample split:13\n",
      "tree1 hold out validation accuracy is:0.35043021192540763 with min sample leaf:29 and min sample split:14\n",
      "tree1 hold out validation accuracy is:0.3503967323981385 with min sample leaf:29 and min sample split:15\n",
      "tree1 hold out validation accuracy is:0.3503967323981385 with min sample leaf:29 and min sample split:16\n",
      "tree1 hold out validation accuracy is:0.3503967323981385 with min sample leaf:29 and min sample split:17\n",
      "tree1 hold out validation accuracy is:0.35043021192540763 with min sample leaf:29 and min sample split:18\n",
      "tree1 hold out validation accuracy is:0.35043021192540763 with min sample leaf:29 and min sample split:19\n",
      "tree1 hold out validation accuracy is:0.3503967323981385 with min sample leaf:29 and min sample split:20\n",
      "tree1 hold out validation accuracy is:0.3503967323981385 with min sample leaf:29 and min sample split:21\n",
      "tree1 hold out validation accuracy is:0.3503967323981385 with min sample leaf:29 and min sample split:22\n",
      "tree1 hold out validation accuracy is:0.3503967323981385 with min sample leaf:29 and min sample split:23\n",
      "tree1 hold out validation accuracy is:0.3503967323981385 with min sample leaf:29 and min sample split:24\n",
      "tree1 hold out validation accuracy is:0.3493923465800663 with min sample leaf:31 and min sample split:10\n",
      "tree1 hold out validation accuracy is:0.3494927851618735 with min sample leaf:31 and min sample split:11\n",
      "tree1 hold out validation accuracy is:0.34929190799825904 with min sample leaf:31 and min sample split:12\n",
      "tree1 hold out validation accuracy is:0.3493923465800663 with min sample leaf:31 and min sample split:13\n",
      "tree1 hold out validation accuracy is:0.34925842847099 with min sample leaf:31 and min sample split:14\n",
      "tree1 hold out validation accuracy is:0.3494593056346044 with min sample leaf:31 and min sample split:15\n",
      "tree1 hold out validation accuracy is:0.3494593056346044 with min sample leaf:31 and min sample split:16\n",
      "tree1 hold out validation accuracy is:0.34929190799825904 with min sample leaf:31 and min sample split:17\n",
      "tree1 hold out validation accuracy is:0.34935886705279723 with min sample leaf:31 and min sample split:18\n",
      "tree1 hold out validation accuracy is:0.3494927851618735 with min sample leaf:31 and min sample split:19\n",
      "tree1 hold out validation accuracy is:0.3494593056346044 with min sample leaf:31 and min sample split:20\n",
      "tree1 hold out validation accuracy is:0.34932538752552816 with min sample leaf:31 and min sample split:21\n",
      "tree1 hold out validation accuracy is:0.34935886705279723 with min sample leaf:31 and min sample split:22\n",
      "tree1 hold out validation accuracy is:0.34942582610733536 with min sample leaf:31 and min sample split:23\n",
      "tree1 hold out validation accuracy is:0.34932538752552816 with min sample leaf:31 and min sample split:24\n",
      "tree1 hold out validation accuracy is:0.34664702534400216 with min sample leaf:33 and min sample split:10\n",
      "tree1 hold out validation accuracy is:0.34664702534400216 with min sample leaf:33 and min sample split:11\n",
      "tree1 hold out validation accuracy is:0.34664702534400216 with min sample leaf:33 and min sample split:12\n",
      "tree1 hold out validation accuracy is:0.34664702534400216 with min sample leaf:33 and min sample split:13\n",
      "tree1 hold out validation accuracy is:0.34664702534400216 with min sample leaf:33 and min sample split:14\n",
      "tree1 hold out validation accuracy is:0.34664702534400216 with min sample leaf:33 and min sample split:15\n",
      "tree1 hold out validation accuracy is:0.34664702534400216 with min sample leaf:33 and min sample split:16\n",
      "tree1 hold out validation accuracy is:0.34664702534400216 with min sample leaf:33 and min sample split:17\n",
      "tree1 hold out validation accuracy is:0.34664702534400216 with min sample leaf:33 and min sample split:18\n",
      "tree1 hold out validation accuracy is:0.34664702534400216 with min sample leaf:33 and min sample split:19\n",
      "tree1 hold out validation accuracy is:0.34664702534400216 with min sample leaf:33 and min sample split:20\n",
      "tree1 hold out validation accuracy is:0.34664702534400216 with min sample leaf:33 and min sample split:21\n",
      "tree1 hold out validation accuracy is:0.34664702534400216 with min sample leaf:33 and min sample split:22\n",
      "tree1 hold out validation accuracy is:0.34664702534400216 with min sample leaf:33 and min sample split:23\n",
      "tree1 hold out validation accuracy is:0.34664702534400216 with min sample leaf:33 and min sample split:24\n",
      "tree1 hold out validation accuracy is:0.3464126686531186 with min sample leaf:35 and min sample split:10\n",
      "tree1 hold out validation accuracy is:0.3464126686531186 with min sample leaf:35 and min sample split:11\n",
      "tree1 hold out validation accuracy is:0.34637918912584953 with min sample leaf:35 and min sample split:12\n",
      "tree1 hold out validation accuracy is:0.3464126686531186 with min sample leaf:35 and min sample split:13\n",
      "tree1 hold out validation accuracy is:0.34637918912584953 with min sample leaf:35 and min sample split:14\n",
      "tree1 hold out validation accuracy is:0.3464126686531186 with min sample leaf:35 and min sample split:15\n",
      "tree1 hold out validation accuracy is:0.3464126686531186 with min sample leaf:35 and min sample split:16\n",
      "tree1 hold out validation accuracy is:0.34637918912584953 with min sample leaf:35 and min sample split:17\n",
      "tree1 hold out validation accuracy is:0.3464126686531186 with min sample leaf:35 and min sample split:18\n",
      "tree1 hold out validation accuracy is:0.3464126686531186 with min sample leaf:35 and min sample split:19\n",
      "tree1 hold out validation accuracy is:0.34637918912584953 with min sample leaf:35 and min sample split:20\n",
      "tree1 hold out validation accuracy is:0.3464126686531186 with min sample leaf:35 and min sample split:21\n",
      "tree1 hold out validation accuracy is:0.34637918912584953 with min sample leaf:35 and min sample split:22\n",
      "tree1 hold out validation accuracy is:0.34637918912584953 with min sample leaf:35 and min sample split:23\n",
      "tree1 hold out validation accuracy is:0.3464126686531186 with min sample leaf:35 and min sample split:24\n",
      "tree1 hold out validation accuracy is:0.3466805048712712 with min sample leaf:37 and min sample split:10\n",
      "tree1 hold out validation accuracy is:0.3467139843985403 with min sample leaf:37 and min sample split:11\n",
      "tree1 hold out validation accuracy is:0.34674746392580935 with min sample leaf:37 and min sample split:12\n",
      "tree1 hold out validation accuracy is:0.3466805048712712 with min sample leaf:37 and min sample split:13\n",
      "tree1 hold out validation accuracy is:0.3467139843985403 with min sample leaf:37 and min sample split:14\n",
      "tree1 hold out validation accuracy is:0.3467139843985403 with min sample leaf:37 and min sample split:15\n",
      "tree1 hold out validation accuracy is:0.3467139843985403 with min sample leaf:37 and min sample split:16\n",
      "tree1 hold out validation accuracy is:0.3467139843985403 with min sample leaf:37 and min sample split:17\n",
      "tree1 hold out validation accuracy is:0.3467139843985403 with min sample leaf:37 and min sample split:18\n",
      "tree1 hold out validation accuracy is:0.3467139843985403 with min sample leaf:37 and min sample split:19\n",
      "tree1 hold out validation accuracy is:0.3467139843985403 with min sample leaf:37 and min sample split:20\n",
      "tree1 hold out validation accuracy is:0.3467139843985403 with min sample leaf:37 and min sample split:21\n",
      "tree1 hold out validation accuracy is:0.3467139843985403 with min sample leaf:37 and min sample split:22\n",
      "tree1 hold out validation accuracy is:0.34674746392580935 with min sample leaf:37 and min sample split:23\n",
      "tree1 hold out validation accuracy is:0.3467139843985403 with min sample leaf:37 and min sample split:24\n",
      "tree1 hold out validation accuracy is:0.3457765576350062 with min sample leaf:39 and min sample split:10\n",
      "tree1 hold out validation accuracy is:0.3457765576350062 with min sample leaf:39 and min sample split:11\n",
      "tree1 hold out validation accuracy is:0.3457765576350062 with min sample leaf:39 and min sample split:12\n",
      "tree1 hold out validation accuracy is:0.34581003716227526 with min sample leaf:39 and min sample split:13\n",
      "tree1 hold out validation accuracy is:0.34581003716227526 with min sample leaf:39 and min sample split:14\n",
      "tree1 hold out validation accuracy is:0.3457765576350062 with min sample leaf:39 and min sample split:15\n",
      "tree1 hold out validation accuracy is:0.3457765576350062 with min sample leaf:39 and min sample split:16\n",
      "tree1 hold out validation accuracy is:0.34581003716227526 with min sample leaf:39 and min sample split:17\n",
      "tree1 hold out validation accuracy is:0.3457765576350062 with min sample leaf:39 and min sample split:18\n",
      "tree1 hold out validation accuracy is:0.34581003716227526 with min sample leaf:39 and min sample split:19\n",
      "tree1 hold out validation accuracy is:0.3457765576350062 with min sample leaf:39 and min sample split:20\n",
      "tree1 hold out validation accuracy is:0.3457765576350062 with min sample leaf:39 and min sample split:21\n",
      "tree1 hold out validation accuracy is:0.34581003716227526 with min sample leaf:39 and min sample split:22\n",
      "tree1 hold out validation accuracy is:0.34581003716227526 with min sample leaf:39 and min sample split:23\n",
      "tree1 hold out validation accuracy is:0.34581003716227526 with min sample leaf:39 and min sample split:24\n",
      "tree1 hold out validation accuracy is:0.34504000803508655 with min sample leaf:41 and min sample split:10\n",
      "tree1 hold out validation accuracy is:0.34504000803508655 with min sample leaf:41 and min sample split:11\n",
      "tree1 hold out validation accuracy is:0.34504000803508655 with min sample leaf:41 and min sample split:12\n",
      "tree1 hold out validation accuracy is:0.34504000803508655 with min sample leaf:41 and min sample split:13\n",
      "tree1 hold out validation accuracy is:0.34504000803508655 with min sample leaf:41 and min sample split:14\n",
      "tree1 hold out validation accuracy is:0.34504000803508655 with min sample leaf:41 and min sample split:15\n",
      "tree1 hold out validation accuracy is:0.34504000803508655 with min sample leaf:41 and min sample split:16\n",
      "tree1 hold out validation accuracy is:0.34504000803508655 with min sample leaf:41 and min sample split:17\n",
      "tree1 hold out validation accuracy is:0.34504000803508655 with min sample leaf:41 and min sample split:18\n",
      "tree1 hold out validation accuracy is:0.34504000803508655 with min sample leaf:41 and min sample split:19\n",
      "tree1 hold out validation accuracy is:0.34504000803508655 with min sample leaf:41 and min sample split:20\n",
      "tree1 hold out validation accuracy is:0.34504000803508655 with min sample leaf:41 and min sample split:21\n",
      "tree1 hold out validation accuracy is:0.34504000803508655 with min sample leaf:41 and min sample split:22\n",
      "tree1 hold out validation accuracy is:0.34504000803508655 with min sample leaf:41 and min sample split:23\n",
      "tree1 hold out validation accuracy is:0.34504000803508655 with min sample leaf:41 and min sample split:24\n",
      "tree1 hold out validation accuracy is:0.3422946867990224 with min sample leaf:43 and min sample split:10\n",
      "tree1 hold out validation accuracy is:0.3424286049080987 with min sample leaf:43 and min sample split:11\n",
      "tree1 hold out validation accuracy is:0.34236164585356055 with min sample leaf:43 and min sample split:12\n",
      "tree1 hold out validation accuracy is:0.3423951253808296 with min sample leaf:43 and min sample split:13\n",
      "tree1 hold out validation accuracy is:0.34236164585356055 with min sample leaf:43 and min sample split:14\n",
      "tree1 hold out validation accuracy is:0.34219424821721517 with min sample leaf:43 and min sample split:15\n",
      "tree1 hold out validation accuracy is:0.3423951253808296 with min sample leaf:43 and min sample split:16\n",
      "tree1 hold out validation accuracy is:0.3422946867990224 with min sample leaf:43 and min sample split:17\n",
      "tree1 hold out validation accuracy is:0.34249556396263686 with min sample leaf:43 and min sample split:18\n",
      "tree1 hold out validation accuracy is:0.3423951253808296 with min sample leaf:43 and min sample split:19\n",
      "tree1 hold out validation accuracy is:0.3423951253808296 with min sample leaf:43 and min sample split:20\n",
      "tree1 hold out validation accuracy is:0.34249556396263686 with min sample leaf:43 and min sample split:21\n",
      "tree1 hold out validation accuracy is:0.3422946867990224 with min sample leaf:43 and min sample split:22\n",
      "tree1 hold out validation accuracy is:0.34249556396263686 with min sample leaf:43 and min sample split:23\n",
      "tree1 hold out validation accuracy is:0.3423281663262915 with min sample leaf:43 and min sample split:24\n",
      "tree1 hold out validation accuracy is:0.34052027185376144 with min sample leaf:45 and min sample split:10\n",
      "tree1 hold out validation accuracy is:0.34052027185376144 with min sample leaf:45 and min sample split:11\n",
      "tree1 hold out validation accuracy is:0.34052027185376144 with min sample leaf:45 and min sample split:12\n",
      "tree1 hold out validation accuracy is:0.34052027185376144 with min sample leaf:45 and min sample split:13\n",
      "tree1 hold out validation accuracy is:0.34052027185376144 with min sample leaf:45 and min sample split:14\n",
      "tree1 hold out validation accuracy is:0.34052027185376144 with min sample leaf:45 and min sample split:15\n",
      "tree1 hold out validation accuracy is:0.34052027185376144 with min sample leaf:45 and min sample split:16\n",
      "tree1 hold out validation accuracy is:0.34052027185376144 with min sample leaf:45 and min sample split:17\n",
      "tree1 hold out validation accuracy is:0.34052027185376144 with min sample leaf:45 and min sample split:18\n",
      "tree1 hold out validation accuracy is:0.34052027185376144 with min sample leaf:45 and min sample split:19\n",
      "tree1 hold out validation accuracy is:0.34052027185376144 with min sample leaf:45 and min sample split:20\n",
      "tree1 hold out validation accuracy is:0.34052027185376144 with min sample leaf:45 and min sample split:21\n",
      "tree1 hold out validation accuracy is:0.34052027185376144 with min sample leaf:45 and min sample split:22\n",
      "tree1 hold out validation accuracy is:0.34052027185376144 with min sample leaf:45 and min sample split:23\n",
      "tree1 hold out validation accuracy is:0.34052027185376144 with min sample leaf:45 and min sample split:24\n",
      "tree1 hold out validation accuracy is:0.3391810907629984 with min sample leaf:47 and min sample split:10\n",
      "tree1 hold out validation accuracy is:0.3391810907629984 with min sample leaf:47 and min sample split:11\n",
      "tree1 hold out validation accuracy is:0.3391810907629984 with min sample leaf:47 and min sample split:12\n",
      "tree1 hold out validation accuracy is:0.3391810907629984 with min sample leaf:47 and min sample split:13\n",
      "tree1 hold out validation accuracy is:0.3391810907629984 with min sample leaf:47 and min sample split:14\n",
      "tree1 hold out validation accuracy is:0.3392145702902675 with min sample leaf:47 and min sample split:15\n",
      "tree1 hold out validation accuracy is:0.3392145702902675 with min sample leaf:47 and min sample split:16\n",
      "tree1 hold out validation accuracy is:0.3391810907629984 with min sample leaf:47 and min sample split:17\n",
      "tree1 hold out validation accuracy is:0.3392145702902675 with min sample leaf:47 and min sample split:18\n",
      "tree1 hold out validation accuracy is:0.3391810907629984 with min sample leaf:47 and min sample split:19\n",
      "tree1 hold out validation accuracy is:0.3391810907629984 with min sample leaf:47 and min sample split:20\n",
      "tree1 hold out validation accuracy is:0.3392145702902675 with min sample leaf:47 and min sample split:21\n",
      "tree1 hold out validation accuracy is:0.3392145702902675 with min sample leaf:47 and min sample split:22\n",
      "tree1 hold out validation accuracy is:0.3391810907629984 with min sample leaf:47 and min sample split:23\n",
      "tree1 hold out validation accuracy is:0.3391810907629984 with min sample leaf:47 and min sample split:24\n",
      "tree1 hold out validation accuracy is:0.3387123773812314 with min sample leaf:49 and min sample split:10\n",
      "tree1 hold out validation accuracy is:0.3387123773812314 with min sample leaf:49 and min sample split:11\n",
      "tree1 hold out validation accuracy is:0.3387123773812314 with min sample leaf:49 and min sample split:12\n",
      "tree1 hold out validation accuracy is:0.3387123773812314 with min sample leaf:49 and min sample split:13\n",
      "tree1 hold out validation accuracy is:0.3387123773812314 with min sample leaf:49 and min sample split:14\n",
      "tree1 hold out validation accuracy is:0.3387123773812314 with min sample leaf:49 and min sample split:15\n",
      "tree1 hold out validation accuracy is:0.3387123773812314 with min sample leaf:49 and min sample split:16\n",
      "tree1 hold out validation accuracy is:0.3387123773812314 with min sample leaf:49 and min sample split:17\n",
      "tree1 hold out validation accuracy is:0.3387123773812314 with min sample leaf:49 and min sample split:18\n",
      "tree1 hold out validation accuracy is:0.3387123773812314 with min sample leaf:49 and min sample split:19\n",
      "tree1 hold out validation accuracy is:0.3387123773812314 with min sample leaf:49 and min sample split:20\n",
      "tree1 hold out validation accuracy is:0.3387123773812314 with min sample leaf:49 and min sample split:21\n",
      "tree1 hold out validation accuracy is:0.3387123773812314 with min sample leaf:49 and min sample split:22\n",
      "tree1 hold out validation accuracy is:0.3387123773812314 with min sample leaf:49 and min sample split:23\n",
      "tree1 hold out validation accuracy is:0.3387123773812314 with min sample leaf:49 and min sample split:24\n"
     ]
    }
   ],
   "source": [
    "min_samples_leaf_ls=np.arange(5,50,2)\n",
    "min_samples_split_ls=np.arange(10,25)\n",
    "\n",
    "for i in min_samples_leaf_ls:\n",
    "    for j in min_samples_split_ls:\n",
    "        tree_clf=DecisionTreeClassifier(min_samples_leaf=i,min_samples_split=j)\n",
    "        tree_clf.fit(X_train1,y_train1)\n",
    "        pred=tree_clf.predict(X_val1)\n",
    "        tree_clf_accuracy=accuracy_score(y_val1,pred)\n",
    "\n",
    "        print(f\"tree1 hold out validation accuracy is:{tree_clf_accuracy} with min sample leaf:{i} and min sample split:{j}\")"
   ]
  },
  {
   "cell_type": "markdown",
   "metadata": {},
   "source": [
    "Fitting and testing on whole dataset using decision tree with best parameters.\n",
    "\n",
    "Average Recall: 0.2041604028\n",
    "\n",
    "Average Precision: 0.2329336703\n",
    "\n",
    "Average F1 Score: 0.2164871008"
   ]
  },
  {
   "cell_type": "code",
   "execution_count": 47,
   "metadata": {},
   "outputs": [
    {
     "name": "stdout",
     "output_type": "stream",
     "text": [
      "tree acuuracy on bangla isolated is:0.2412 with min sample leaf:12 and min sample split:14\n",
      "total recall:[0.2  0.2  0.2  0.12 0.22 0.12 0.2  0.22 0.22 0.04 0.26 0.2  0.1  0.44\n",
      " 0.08 0.12 0.16 0.2  0.12 0.24 0.36 0.36 0.32 0.16 0.2  0.38 0.22 0.2\n",
      " 0.22 0.14 0.08 0.2  0.18 0.3  0.16 0.08 0.24 0.2  0.12 0.28 0.2  0.14\n",
      " 0.24 0.18 0.34 0.22 0.52 0.7  0.68 0.78], and \n",
      " precision:[0.28571429 0.17857143 0.22727273 0.2        0.14285714 0.375\n",
      " 0.3030303  0.39285714 0.28947368 0.14285714 0.2826087  0.29411765\n",
      " 0.2        0.43137255 0.10810811 0.42857143 0.32       0.23809524\n",
      " 0.05940594 0.24       0.72       0.2278481  0.27118644 0.27586207\n",
      " 0.28571429 0.36538462 0.34375    0.21276596 0.15277778 0.15909091\n",
      " 0.14285714 0.15873016 0.23076923 0.3125     0.19512195 0.12121212\n",
      " 0.21818182 0.21276596 0.09836066 0.22222222 0.14925373 0.175\n",
      " 0.20689655 0.19565217 0.34693878 0.2244898  0.26530612 0.39325843\n",
      " 0.425      0.22159091]\n"
     ]
    }
   ],
   "source": [
    "tree_clf=DecisionTreeClassifier(min_samples_leaf=12,min_samples_split=14)\n",
    "\n",
    "tree_clf.fit(X_train,y_train)\n",
    "dt_pred=tree_clf.predict(X_test)\n",
    "tree_clf_accuracy=accuracy_score(y_test,dt_pred)\n",
    "\n",
    "print(f\"tree acuuracy on bangla isolated is:{tree_clf_accuracy} with min sample leaf:12 and min sample split:14\")\n",
    "\n",
    "cf_dt=confusion_matrix(y_test,dt_pred)\n",
    "\n",
    "recall_dt=np.diag(cf_dt)/np.sum(cf_dt,axis=1)\n",
    "precision_dt=np.diag(cf_dt)/np.sum(cf_dt,axis=0)\n",
    "\n",
    "print(f'total recall:{recall_dt}, and \\n precision:{precision_dt}')\n",
    "\n",
    "df_cf=pd.DataFrame(cf_dt)\n",
    "df_cf.to_csv('/home/sysadm/z/ML_P1/Confusion_matrix_folder/dt_conf_matrix_bangla.csv')"
   ]
  },
  {
   "cell_type": "markdown",
   "metadata": {},
   "source": [
    "Now we will be using knn for holdout validation and then the best estimator would be used cross valiadtion to get an idea of average performence.Atlast we will test on the test set."
   ]
  },
  {
   "cell_type": "code",
   "execution_count": 19,
   "metadata": {},
   "outputs": [
    {
     "data": {
      "text/plain": [
       "(119472, 784)"
      ]
     },
     "execution_count": 19,
     "metadata": {},
     "output_type": "execute_result"
    }
   ],
   "source": [
    "X_train1.shape"
   ]
  },
  {
   "cell_type": "markdown",
   "metadata": {},
   "source": [
    "Knn with euclidean distance."
   ]
  },
  {
   "cell_type": "code",
   "execution_count": 20,
   "metadata": {},
   "outputs": [
    {
     "name": "stdout",
     "output_type": "stream",
     "text": [
      "Best parameters: 7\n",
      "Best accuracy: 0.639124175566641\n"
     ]
    }
   ],
   "source": [
    "\n",
    "parameters=[3,5,7,9,11,13,15,17,19,21,23,25,27,29,31,33,35,37,39,41,43,45,47,49,51]\n",
    "\n",
    "best_accuracy = 0\n",
    "best_params = None\n",
    "\n",
    "# Iterate over each set of parameters\n",
    "for params in parameters:\n",
    "    # Train k-NN model\n",
    "    knn = KNeighborsClassifier(params,metric='euclidean')\n",
    "    knn.fit(X_train1, y_train1)\n",
    "    \n",
    "    # Validate\n",
    "    y_pred = knn.predict(X_val1)\n",
    "    accuracy = accuracy_score(y_val1, y_pred)\n",
    "    \n",
    "    # Check if current parameters are the best\n",
    "    if accuracy > best_accuracy:\n",
    "        best_accuracy = accuracy\n",
    "        best_params = params\n",
    "\n",
    "print(\"Best parameters:\", best_params)\n",
    "print(\"Best accuracy:\", best_accuracy)"
   ]
  },
  {
   "cell_type": "code",
   "execution_count": 21,
   "metadata": {},
   "outputs": [
    {
     "name": "stdout",
     "output_type": "stream",
     "text": [
      "Best parameters: 7\n",
      "Best accuracy: 0.639124175566641\n"
     ]
    }
   ],
   "source": [
    "parameters=[7,53,55,57,59,61,63,65,67]\n",
    "\n",
    "best_accuracy = 0\n",
    "best_params = None\n",
    "\n",
    "# Iterate over each set of parameters\n",
    "for params in parameters:\n",
    "    # Train k-NN model\n",
    "    knn = KNeighborsClassifier(params,metric='euclidean')\n",
    "    knn.fit(X_train1, y_train1)\n",
    "    \n",
    "    # Validate\n",
    "    y_pred = knn.predict(X_val1)\n",
    "    accuracy = accuracy_score(y_val1, y_pred)\n",
    "    \n",
    "    # Check if current parameters are the best\n",
    "    if accuracy > best_accuracy:\n",
    "        best_accuracy = accuracy\n",
    "        best_params = params\n",
    "\n",
    "print(\"Best parameters:\", best_params)\n",
    "print(\"Best accuracy:\", best_accuracy)"
   ]
  },
  {
   "cell_type": "markdown",
   "metadata": {},
   "source": [
    "Now we are testing on the whole bangla isolated."
   ]
  },
  {
   "cell_type": "code",
   "execution_count": 8,
   "metadata": {},
   "outputs": [
    {
     "name": "stdout",
     "output_type": "stream",
     "text": [
      "Training data set shape are: (149341, 784) and (149341,)\n",
      " Test dataset shapes are: (86458, 784) and (86458,) \n"
     ]
    }
   ],
   "source": [
    "X_train,y_train=ekush[:,:784],ekush[:,-1]\n",
    "X_test,y_test=bangla_isolated[:,:784],bangla_isolated[:,-1]\n",
    "print(f'Training data set shape are: {X_train.shape} and {y_train.shape}\\n Test dataset shapes are: {X_test.shape} and {y_test.shape} ')"
   ]
  },
  {
   "cell_type": "markdown",
   "metadata": {},
   "source": [
    "Average Recall: 0.5761391066\n",
    "Average Precision: 0.6155154294\n",
    "Average F1 Score: 0.5811765956"
   ]
  },
  {
   "cell_type": "code",
   "execution_count": 23,
   "metadata": {},
   "outputs": [
    {
     "name": "stdout",
     "output_type": "stream",
     "text": [
      "total recall:[0.54607899 0.62942613 0.5845755  0.37236084 0.48069738 0.24834636\n",
      " 0.49756691 0.83484677 0.53206239 0.77580275 0.67474747 0.55568118\n",
      " 0.39947951 0.49315068 0.47809762 0.66857506 0.65956221 0.58780161\n",
      " 0.37755666 0.56727273 0.67444574 0.65062196 0.62694878 0.5654699\n",
      " 0.7078711  0.85278896 0.58417419 0.68434874 0.74238227 0.50465116\n",
      " 0.66058596 0.55343732 0.44718714 0.73998872 0.29969605 0.20979827\n",
      " 0.47967033 0.5745614  0.57441721 0.49187784 0.21565315 0.22029703\n",
      " 0.62893429 0.64861538 0.75328384 0.53397028 0.86696231 0.80545877\n",
      " 0.92365591 0.97063712], and \n",
      " precision:[0.68142857 0.81825397 0.61444142 0.8422576  0.52303523 0.74818841\n",
      " 0.88624052 0.62330508 0.81073944 0.78253326 0.84130982 0.69274137\n",
      " 0.52794497 0.48349189 0.41725833 0.85032362 0.46113572 0.77610619\n",
      " 0.82989064 0.62151394 0.94754098 0.6527401  0.69122161 0.45458404\n",
      " 0.46414964 0.43185789 0.64705882 0.48655713 0.44385558 0.82352941\n",
      " 0.47685555 0.68282252 0.86267996 0.42680547 0.6139477  0.45105328\n",
      " 0.32893745 0.67919637 0.6849608  0.84298441 0.25247198 0.32841328\n",
      " 0.66028986 0.71798365 0.67468031 0.69427191 0.65769554 0.63594681\n",
      " 0.66978558 0.38872864]\n"
     ]
    }
   ],
   "source": [
    "knn = KNeighborsClassifier(best_params,metric='euclidean')\n",
    "knn.fit(X_train, y_train)\n",
    "\n",
    "knn_pred = knn.predict(X_test)\n",
    "knn_accuracy = accuracy_score(y_test, knn_pred)\n",
    "\n",
    "cf_knn=confusion_matrix(y_test,knn_pred)\n",
    "\n",
    "recall_knn=np.diag(cf_knn)/np.sum(cf_knn,axis=1)\n",
    "precision_knn=np.diag(cf_knn)/np.sum(cf_knn,axis=0)\n",
    "\n",
    "print(f'total recall:{recall_knn}, and \\n precision:{precision_knn}')"
   ]
  },
  {
   "cell_type": "code",
   "execution_count": 25,
   "metadata": {},
   "outputs": [
    {
     "name": "stdout",
     "output_type": "stream",
     "text": [
      "knn accuracy on bangla isolated is:0.5864118994193712 with 7 nearest neighbours.\n"
     ]
    }
   ],
   "source": [
    "print(f'knn accuracy on bangla isolated is:{knn_accuracy} with 7 nearest neighbours.')"
   ]
  },
  {
   "cell_type": "code",
   "execution_count": 24,
   "metadata": {},
   "outputs": [],
   "source": [
    "df_cf=pd.DataFrame(cf_knn)\n",
    "df_cf.to_csv('/home/sysadm/z/ML_P1/Confusion_matrix_folder/knn_conf_matrix_bangla.csv')"
   ]
  },
  {
   "cell_type": "markdown",
   "metadata": {},
   "source": [
    "Knn with taxi-cab metric.Checking the best parameter on validation."
   ]
  },
  {
   "cell_type": "code",
   "execution_count": 26,
   "metadata": {},
   "outputs": [
    {
     "name": "stdout",
     "output_type": "stream",
     "text": [
      "Best parameters: 7\n",
      "Best accuracy: 0.5887709665539522\n"
     ]
    }
   ],
   "source": [
    "parameters=[3,5,7,9,11,13,15,17,19,21,23,25,27,29,31,33,35,37,39,41,43,45,47,49,51,53,55,57,59,61,63]\n",
    "\n",
    "best_accuracy = 0\n",
    "best_params_manhattan = None\n",
    "\n",
    "# Iterate over each set of parameters\n",
    "for params in parameters:\n",
    "    # Train k-NN model\n",
    "    knn = KNeighborsClassifier(params,metric='manhattan')\n",
    "    knn.fit(X_train1, y_train1)\n",
    "    \n",
    "    # Validate\n",
    "    y_pred = knn.predict(X_val1)\n",
    "    accuracy = accuracy_score(y_val1, y_pred)\n",
    "    \n",
    "    # Check if current parameters are the best\n",
    "    if accuracy > best_accuracy:\n",
    "        best_accuracy = accuracy\n",
    "        best_params_manhattan = params\n",
    "\n",
    "print(\"Best parameters:\", best_params_manhattan)\n",
    "print(\"Best accuracy:\", best_accuracy)"
   ]
  },
  {
   "cell_type": "markdown",
   "metadata": {},
   "source": [
    "Average Recall: 0.4771483574\n",
    "Average Precision: 0.6192991648\n",
    "Average F1 Score: 0.5386676201"
   ]
  },
  {
   "cell_type": "code",
   "execution_count": 7,
   "metadata": {},
   "outputs": [
    {
     "name": "stdout",
     "output_type": "stream",
     "text": [
      "knn accuracy on bangla isolated is:0.5053436350597978 with 7 nearest neighbours.\n",
      "total recall:[0.43846594 0.51159951 0.40764744 0.22136916 0.30386052 0.15634396\n",
      " 0.41058394 0.77014756 0.35932987 0.68176606 0.47205387 0.43470888\n",
      " 0.37085231 0.42579909 0.42428035 0.57760814 0.63191244 0.47654155\n",
      " 0.25981205 0.50441558 0.56417736 0.50081125 0.50445434 0.5095037\n",
      " 0.66825145 0.83841288 0.5252257  0.6092437  0.69307479 0.41744186\n",
      " 0.6053068  0.51993068 0.36280138 0.69317541 0.25775076 0.1815562\n",
      " 0.46318681 0.47368421 0.50926479 0.41455491 0.17623874 0.17388614\n",
      " 0.54555494 0.51753846 0.66019417 0.43842887 0.80432373 0.70557491\n",
      " 0.9016129  0.97229917], and \n",
      " precision:[0.66666667 0.82156863 0.59961868 0.85221675 0.52871073 0.78549849\n",
      " 0.90847914 0.61264108 0.73696682 0.80774457 0.8654321  0.70550459\n",
      " 0.54545455 0.48253558 0.40165877 0.81508079 0.43583631 0.76616379\n",
      " 0.7925801  0.61030798 0.94066148 0.64709993 0.72133758 0.41847355\n",
      " 0.3995578  0.39004815 0.63519589 0.50434783 0.32748691 0.79424779\n",
      " 0.46615581 0.66568047 0.84605087 0.40817004 0.59217877 0.42510121\n",
      " 0.30301941 0.6797797  0.61918605 0.81377551 0.17254686 0.29058945\n",
      " 0.54585635 0.65447471 0.61034847 0.65141956 0.56153251 0.53571429\n",
      " 0.47927979 0.1875    ]\n"
     ]
    }
   ],
   "source": [
    "best_params_manhattan=7\n",
    "knn = KNeighborsClassifier(best_params_manhattan,metric='manhattan')\n",
    "knn.fit(X_train, y_train)\n",
    "\n",
    "knn_man = knn.predict(X_test)\n",
    "knn_accuracy = accuracy_score(y_test, knn_man)\n",
    "\n",
    "cf_knn=confusion_matrix(y_test,knn_man)\n",
    "\n",
    "recall_knn=np.diag(cf_knn)/np.sum(cf_knn,axis=1)\n",
    "precision_knn=np.diag(cf_knn)/np.sum(cf_knn,axis=0)\n",
    "\n",
    "print(f'knn accuracy on bangla isolated is:{knn_accuracy} with 7 nearest neighbours.')\n",
    "print(f'total recall:{recall_knn}, and \\n precision:{precision_knn}')\n",
    "\n",
    "df_cf=pd.DataFrame(cf_knn)\n",
    "df_cf.to_csv('/home/sysadm/z/ML_P1/Confusion_matrix_folder/knn_man_conf_matrix_bangla.csv')"
   ]
  },
  {
   "cell_type": "markdown",
   "metadata": {},
   "source": [
    "Now we will train on ekush and then test on our own collected primary data."
   ]
  },
  {
   "cell_type": "code",
   "execution_count": 4,
   "metadata": {},
   "outputs": [],
   "source": [
    "#Loading the training set.\n",
    "X_train,y_train=ekush[:,:784],ekush[:,-1]"
   ]
  },
  {
   "cell_type": "code",
   "execution_count": 6,
   "metadata": {},
   "outputs": [],
   "source": [
    "#Loading the primary test dataset.\n",
    "primary_data_path='/home/sysadm/z/ML_P1/Data_npy_files/primary_data(fab).npy'\n",
    "primary_data=np.load(primary_data_path).astype('float16')\n",
    "primary_data.shape\n",
    "\n",
    "X_test,y_test=primary_data[:,:784],primary_data[:,-1]"
   ]
  },
  {
   "cell_type": "code",
   "execution_count": 8,
   "metadata": {},
   "outputs": [
    {
     "data": {
      "text/plain": [
       "(2500, 784)"
      ]
     },
     "execution_count": 8,
     "metadata": {},
     "output_type": "execute_result"
    }
   ],
   "source": [
    "X_test.shape"
   ]
  },
  {
   "cell_type": "markdown",
   "metadata": {},
   "source": [
    "Applying SVM kernel=poly for training on ekush and test on primary dataset"
   ]
  },
  {
   "cell_type": "code",
   "execution_count": 5,
   "metadata": {},
   "outputs": [
    {
     "data": {
      "text/html": [
       "<style>#sk-container-id-1 {\n",
       "  /* Definition of color scheme common for light and dark mode */\n",
       "  --sklearn-color-text: black;\n",
       "  --sklearn-color-line: gray;\n",
       "  /* Definition of color scheme for unfitted estimators */\n",
       "  --sklearn-color-unfitted-level-0: #fff5e6;\n",
       "  --sklearn-color-unfitted-level-1: #f6e4d2;\n",
       "  --sklearn-color-unfitted-level-2: #ffe0b3;\n",
       "  --sklearn-color-unfitted-level-3: chocolate;\n",
       "  /* Definition of color scheme for fitted estimators */\n",
       "  --sklearn-color-fitted-level-0: #f0f8ff;\n",
       "  --sklearn-color-fitted-level-1: #d4ebff;\n",
       "  --sklearn-color-fitted-level-2: #b3dbfd;\n",
       "  --sklearn-color-fitted-level-3: cornflowerblue;\n",
       "\n",
       "  /* Specific color for light theme */\n",
       "  --sklearn-color-text-on-default-background: var(--sg-text-color, var(--theme-code-foreground, var(--jp-content-font-color1, black)));\n",
       "  --sklearn-color-background: var(--sg-background-color, var(--theme-background, var(--jp-layout-color0, white)));\n",
       "  --sklearn-color-border-box: var(--sg-text-color, var(--theme-code-foreground, var(--jp-content-font-color1, black)));\n",
       "  --sklearn-color-icon: #696969;\n",
       "\n",
       "  @media (prefers-color-scheme: dark) {\n",
       "    /* Redefinition of color scheme for dark theme */\n",
       "    --sklearn-color-text-on-default-background: var(--sg-text-color, var(--theme-code-foreground, var(--jp-content-font-color1, white)));\n",
       "    --sklearn-color-background: var(--sg-background-color, var(--theme-background, var(--jp-layout-color0, #111)));\n",
       "    --sklearn-color-border-box: var(--sg-text-color, var(--theme-code-foreground, var(--jp-content-font-color1, white)));\n",
       "    --sklearn-color-icon: #878787;\n",
       "  }\n",
       "}\n",
       "\n",
       "#sk-container-id-1 {\n",
       "  color: var(--sklearn-color-text);\n",
       "}\n",
       "\n",
       "#sk-container-id-1 pre {\n",
       "  padding: 0;\n",
       "}\n",
       "\n",
       "#sk-container-id-1 input.sk-hidden--visually {\n",
       "  border: 0;\n",
       "  clip: rect(1px 1px 1px 1px);\n",
       "  clip: rect(1px, 1px, 1px, 1px);\n",
       "  height: 1px;\n",
       "  margin: -1px;\n",
       "  overflow: hidden;\n",
       "  padding: 0;\n",
       "  position: absolute;\n",
       "  width: 1px;\n",
       "}\n",
       "\n",
       "#sk-container-id-1 div.sk-dashed-wrapped {\n",
       "  border: 1px dashed var(--sklearn-color-line);\n",
       "  margin: 0 0.4em 0.5em 0.4em;\n",
       "  box-sizing: border-box;\n",
       "  padding-bottom: 0.4em;\n",
       "  background-color: var(--sklearn-color-background);\n",
       "}\n",
       "\n",
       "#sk-container-id-1 div.sk-container {\n",
       "  /* jupyter's `normalize.less` sets `[hidden] { display: none; }`\n",
       "     but bootstrap.min.css set `[hidden] { display: none !important; }`\n",
       "     so we also need the `!important` here to be able to override the\n",
       "     default hidden behavior on the sphinx rendered scikit-learn.org.\n",
       "     See: https://github.com/scikit-learn/scikit-learn/issues/21755 */\n",
       "  display: inline-block !important;\n",
       "  position: relative;\n",
       "}\n",
       "\n",
       "#sk-container-id-1 div.sk-text-repr-fallback {\n",
       "  display: none;\n",
       "}\n",
       "\n",
       "div.sk-parallel-item,\n",
       "div.sk-serial,\n",
       "div.sk-item {\n",
       "  /* draw centered vertical line to link estimators */\n",
       "  background-image: linear-gradient(var(--sklearn-color-text-on-default-background), var(--sklearn-color-text-on-default-background));\n",
       "  background-size: 2px 100%;\n",
       "  background-repeat: no-repeat;\n",
       "  background-position: center center;\n",
       "}\n",
       "\n",
       "/* Parallel-specific style estimator block */\n",
       "\n",
       "#sk-container-id-1 div.sk-parallel-item::after {\n",
       "  content: \"\";\n",
       "  width: 100%;\n",
       "  border-bottom: 2px solid var(--sklearn-color-text-on-default-background);\n",
       "  flex-grow: 1;\n",
       "}\n",
       "\n",
       "#sk-container-id-1 div.sk-parallel {\n",
       "  display: flex;\n",
       "  align-items: stretch;\n",
       "  justify-content: center;\n",
       "  background-color: var(--sklearn-color-background);\n",
       "  position: relative;\n",
       "}\n",
       "\n",
       "#sk-container-id-1 div.sk-parallel-item {\n",
       "  display: flex;\n",
       "  flex-direction: column;\n",
       "}\n",
       "\n",
       "#sk-container-id-1 div.sk-parallel-item:first-child::after {\n",
       "  align-self: flex-end;\n",
       "  width: 50%;\n",
       "}\n",
       "\n",
       "#sk-container-id-1 div.sk-parallel-item:last-child::after {\n",
       "  align-self: flex-start;\n",
       "  width: 50%;\n",
       "}\n",
       "\n",
       "#sk-container-id-1 div.sk-parallel-item:only-child::after {\n",
       "  width: 0;\n",
       "}\n",
       "\n",
       "/* Serial-specific style estimator block */\n",
       "\n",
       "#sk-container-id-1 div.sk-serial {\n",
       "  display: flex;\n",
       "  flex-direction: column;\n",
       "  align-items: center;\n",
       "  background-color: var(--sklearn-color-background);\n",
       "  padding-right: 1em;\n",
       "  padding-left: 1em;\n",
       "}\n",
       "\n",
       "\n",
       "/* Toggleable style: style used for estimator/Pipeline/ColumnTransformer box that is\n",
       "clickable and can be expanded/collapsed.\n",
       "- Pipeline and ColumnTransformer use this feature and define the default style\n",
       "- Estimators will overwrite some part of the style using the `sk-estimator` class\n",
       "*/\n",
       "\n",
       "/* Pipeline and ColumnTransformer style (default) */\n",
       "\n",
       "#sk-container-id-1 div.sk-toggleable {\n",
       "  /* Default theme specific background. It is overwritten whether we have a\n",
       "  specific estimator or a Pipeline/ColumnTransformer */\n",
       "  background-color: var(--sklearn-color-background);\n",
       "}\n",
       "\n",
       "/* Toggleable label */\n",
       "#sk-container-id-1 label.sk-toggleable__label {\n",
       "  cursor: pointer;\n",
       "  display: block;\n",
       "  width: 100%;\n",
       "  margin-bottom: 0;\n",
       "  padding: 0.5em;\n",
       "  box-sizing: border-box;\n",
       "  text-align: center;\n",
       "}\n",
       "\n",
       "#sk-container-id-1 label.sk-toggleable__label-arrow:before {\n",
       "  /* Arrow on the left of the label */\n",
       "  content: \"▸\";\n",
       "  float: left;\n",
       "  margin-right: 0.25em;\n",
       "  color: var(--sklearn-color-icon);\n",
       "}\n",
       "\n",
       "#sk-container-id-1 label.sk-toggleable__label-arrow:hover:before {\n",
       "  color: var(--sklearn-color-text);\n",
       "}\n",
       "\n",
       "/* Toggleable content - dropdown */\n",
       "\n",
       "#sk-container-id-1 div.sk-toggleable__content {\n",
       "  max-height: 0;\n",
       "  max-width: 0;\n",
       "  overflow: hidden;\n",
       "  text-align: left;\n",
       "  /* unfitted */\n",
       "  background-color: var(--sklearn-color-unfitted-level-0);\n",
       "}\n",
       "\n",
       "#sk-container-id-1 div.sk-toggleable__content.fitted {\n",
       "  /* fitted */\n",
       "  background-color: var(--sklearn-color-fitted-level-0);\n",
       "}\n",
       "\n",
       "#sk-container-id-1 div.sk-toggleable__content pre {\n",
       "  margin: 0.2em;\n",
       "  border-radius: 0.25em;\n",
       "  color: var(--sklearn-color-text);\n",
       "  /* unfitted */\n",
       "  background-color: var(--sklearn-color-unfitted-level-0);\n",
       "}\n",
       "\n",
       "#sk-container-id-1 div.sk-toggleable__content.fitted pre {\n",
       "  /* unfitted */\n",
       "  background-color: var(--sklearn-color-fitted-level-0);\n",
       "}\n",
       "\n",
       "#sk-container-id-1 input.sk-toggleable__control:checked~div.sk-toggleable__content {\n",
       "  /* Expand drop-down */\n",
       "  max-height: 200px;\n",
       "  max-width: 100%;\n",
       "  overflow: auto;\n",
       "}\n",
       "\n",
       "#sk-container-id-1 input.sk-toggleable__control:checked~label.sk-toggleable__label-arrow:before {\n",
       "  content: \"▾\";\n",
       "}\n",
       "\n",
       "/* Pipeline/ColumnTransformer-specific style */\n",
       "\n",
       "#sk-container-id-1 div.sk-label input.sk-toggleable__control:checked~label.sk-toggleable__label {\n",
       "  color: var(--sklearn-color-text);\n",
       "  background-color: var(--sklearn-color-unfitted-level-2);\n",
       "}\n",
       "\n",
       "#sk-container-id-1 div.sk-label.fitted input.sk-toggleable__control:checked~label.sk-toggleable__label {\n",
       "  background-color: var(--sklearn-color-fitted-level-2);\n",
       "}\n",
       "\n",
       "/* Estimator-specific style */\n",
       "\n",
       "/* Colorize estimator box */\n",
       "#sk-container-id-1 div.sk-estimator input.sk-toggleable__control:checked~label.sk-toggleable__label {\n",
       "  /* unfitted */\n",
       "  background-color: var(--sklearn-color-unfitted-level-2);\n",
       "}\n",
       "\n",
       "#sk-container-id-1 div.sk-estimator.fitted input.sk-toggleable__control:checked~label.sk-toggleable__label {\n",
       "  /* fitted */\n",
       "  background-color: var(--sklearn-color-fitted-level-2);\n",
       "}\n",
       "\n",
       "#sk-container-id-1 div.sk-label label.sk-toggleable__label,\n",
       "#sk-container-id-1 div.sk-label label {\n",
       "  /* The background is the default theme color */\n",
       "  color: var(--sklearn-color-text-on-default-background);\n",
       "}\n",
       "\n",
       "/* On hover, darken the color of the background */\n",
       "#sk-container-id-1 div.sk-label:hover label.sk-toggleable__label {\n",
       "  color: var(--sklearn-color-text);\n",
       "  background-color: var(--sklearn-color-unfitted-level-2);\n",
       "}\n",
       "\n",
       "/* Label box, darken color on hover, fitted */\n",
       "#sk-container-id-1 div.sk-label.fitted:hover label.sk-toggleable__label.fitted {\n",
       "  color: var(--sklearn-color-text);\n",
       "  background-color: var(--sklearn-color-fitted-level-2);\n",
       "}\n",
       "\n",
       "/* Estimator label */\n",
       "\n",
       "#sk-container-id-1 div.sk-label label {\n",
       "  font-family: monospace;\n",
       "  font-weight: bold;\n",
       "  display: inline-block;\n",
       "  line-height: 1.2em;\n",
       "}\n",
       "\n",
       "#sk-container-id-1 div.sk-label-container {\n",
       "  text-align: center;\n",
       "}\n",
       "\n",
       "/* Estimator-specific */\n",
       "#sk-container-id-1 div.sk-estimator {\n",
       "  font-family: monospace;\n",
       "  border: 1px dotted var(--sklearn-color-border-box);\n",
       "  border-radius: 0.25em;\n",
       "  box-sizing: border-box;\n",
       "  margin-bottom: 0.5em;\n",
       "  /* unfitted */\n",
       "  background-color: var(--sklearn-color-unfitted-level-0);\n",
       "}\n",
       "\n",
       "#sk-container-id-1 div.sk-estimator.fitted {\n",
       "  /* fitted */\n",
       "  background-color: var(--sklearn-color-fitted-level-0);\n",
       "}\n",
       "\n",
       "/* on hover */\n",
       "#sk-container-id-1 div.sk-estimator:hover {\n",
       "  /* unfitted */\n",
       "  background-color: var(--sklearn-color-unfitted-level-2);\n",
       "}\n",
       "\n",
       "#sk-container-id-1 div.sk-estimator.fitted:hover {\n",
       "  /* fitted */\n",
       "  background-color: var(--sklearn-color-fitted-level-2);\n",
       "}\n",
       "\n",
       "/* Specification for estimator info (e.g. \"i\" and \"?\") */\n",
       "\n",
       "/* Common style for \"i\" and \"?\" */\n",
       "\n",
       ".sk-estimator-doc-link,\n",
       "a:link.sk-estimator-doc-link,\n",
       "a:visited.sk-estimator-doc-link {\n",
       "  float: right;\n",
       "  font-size: smaller;\n",
       "  line-height: 1em;\n",
       "  font-family: monospace;\n",
       "  background-color: var(--sklearn-color-background);\n",
       "  border-radius: 1em;\n",
       "  height: 1em;\n",
       "  width: 1em;\n",
       "  text-decoration: none !important;\n",
       "  margin-left: 1ex;\n",
       "  /* unfitted */\n",
       "  border: var(--sklearn-color-unfitted-level-1) 1pt solid;\n",
       "  color: var(--sklearn-color-unfitted-level-1);\n",
       "}\n",
       "\n",
       ".sk-estimator-doc-link.fitted,\n",
       "a:link.sk-estimator-doc-link.fitted,\n",
       "a:visited.sk-estimator-doc-link.fitted {\n",
       "  /* fitted */\n",
       "  border: var(--sklearn-color-fitted-level-1) 1pt solid;\n",
       "  color: var(--sklearn-color-fitted-level-1);\n",
       "}\n",
       "\n",
       "/* On hover */\n",
       "div.sk-estimator:hover .sk-estimator-doc-link:hover,\n",
       ".sk-estimator-doc-link:hover,\n",
       "div.sk-label-container:hover .sk-estimator-doc-link:hover,\n",
       ".sk-estimator-doc-link:hover {\n",
       "  /* unfitted */\n",
       "  background-color: var(--sklearn-color-unfitted-level-3);\n",
       "  color: var(--sklearn-color-background);\n",
       "  text-decoration: none;\n",
       "}\n",
       "\n",
       "div.sk-estimator.fitted:hover .sk-estimator-doc-link.fitted:hover,\n",
       ".sk-estimator-doc-link.fitted:hover,\n",
       "div.sk-label-container:hover .sk-estimator-doc-link.fitted:hover,\n",
       ".sk-estimator-doc-link.fitted:hover {\n",
       "  /* fitted */\n",
       "  background-color: var(--sklearn-color-fitted-level-3);\n",
       "  color: var(--sklearn-color-background);\n",
       "  text-decoration: none;\n",
       "}\n",
       "\n",
       "/* Span, style for the box shown on hovering the info icon */\n",
       ".sk-estimator-doc-link span {\n",
       "  display: none;\n",
       "  z-index: 9999;\n",
       "  position: relative;\n",
       "  font-weight: normal;\n",
       "  right: .2ex;\n",
       "  padding: .5ex;\n",
       "  margin: .5ex;\n",
       "  width: min-content;\n",
       "  min-width: 20ex;\n",
       "  max-width: 50ex;\n",
       "  color: var(--sklearn-color-text);\n",
       "  box-shadow: 2pt 2pt 4pt #999;\n",
       "  /* unfitted */\n",
       "  background: var(--sklearn-color-unfitted-level-0);\n",
       "  border: .5pt solid var(--sklearn-color-unfitted-level-3);\n",
       "}\n",
       "\n",
       ".sk-estimator-doc-link.fitted span {\n",
       "  /* fitted */\n",
       "  background: var(--sklearn-color-fitted-level-0);\n",
       "  border: var(--sklearn-color-fitted-level-3);\n",
       "}\n",
       "\n",
       ".sk-estimator-doc-link:hover span {\n",
       "  display: block;\n",
       "}\n",
       "\n",
       "/* \"?\"-specific style due to the `<a>` HTML tag */\n",
       "\n",
       "#sk-container-id-1 a.estimator_doc_link {\n",
       "  float: right;\n",
       "  font-size: 1rem;\n",
       "  line-height: 1em;\n",
       "  font-family: monospace;\n",
       "  background-color: var(--sklearn-color-background);\n",
       "  border-radius: 1rem;\n",
       "  height: 1rem;\n",
       "  width: 1rem;\n",
       "  text-decoration: none;\n",
       "  /* unfitted */\n",
       "  color: var(--sklearn-color-unfitted-level-1);\n",
       "  border: var(--sklearn-color-unfitted-level-1) 1pt solid;\n",
       "}\n",
       "\n",
       "#sk-container-id-1 a.estimator_doc_link.fitted {\n",
       "  /* fitted */\n",
       "  border: var(--sklearn-color-fitted-level-1) 1pt solid;\n",
       "  color: var(--sklearn-color-fitted-level-1);\n",
       "}\n",
       "\n",
       "/* On hover */\n",
       "#sk-container-id-1 a.estimator_doc_link:hover {\n",
       "  /* unfitted */\n",
       "  background-color: var(--sklearn-color-unfitted-level-3);\n",
       "  color: var(--sklearn-color-background);\n",
       "  text-decoration: none;\n",
       "}\n",
       "\n",
       "#sk-container-id-1 a.estimator_doc_link.fitted:hover {\n",
       "  /* fitted */\n",
       "  background-color: var(--sklearn-color-fitted-level-3);\n",
       "}\n",
       "</style><div id=\"sk-container-id-1\" class=\"sk-top-container\"><div class=\"sk-text-repr-fallback\"><pre>SVC(kernel=&#x27;poly&#x27;)</pre><b>In a Jupyter environment, please rerun this cell to show the HTML representation or trust the notebook. <br />On GitHub, the HTML representation is unable to render, please try loading this page with nbviewer.org.</b></div><div class=\"sk-container\" hidden><div class=\"sk-item\"><div class=\"sk-estimator fitted sk-toggleable\"><input class=\"sk-toggleable__control sk-hidden--visually\" id=\"sk-estimator-id-1\" type=\"checkbox\" checked><label for=\"sk-estimator-id-1\" class=\"sk-toggleable__label fitted sk-toggleable__label-arrow fitted\">&nbsp;&nbsp;SVC<a class=\"sk-estimator-doc-link fitted\" rel=\"noreferrer\" target=\"_blank\" href=\"https://scikit-learn.org/1.4/modules/generated/sklearn.svm.SVC.html\">?<span>Documentation for SVC</span></a><span class=\"sk-estimator-doc-link fitted\">i<span>Fitted</span></span></label><div class=\"sk-toggleable__content fitted\"><pre>SVC(kernel=&#x27;poly&#x27;)</pre></div> </div></div></div></div>"
      ],
      "text/plain": [
       "SVC(kernel='poly')"
      ]
     },
     "execution_count": 5,
     "metadata": {},
     "output_type": "execute_result"
    }
   ],
   "source": [
    "#Training on ekush\n",
    "svm_poly_classifier=SVC(kernel='poly')\n",
    "svm_poly_classifier.fit(X_train,y_train)"
   ]
  },
  {
   "cell_type": "code",
   "execution_count": 9,
   "metadata": {},
   "outputs": [
    {
     "name": "stdout",
     "output_type": "stream",
     "text": [
      "SVM poly accuracy on primary dataset with strength=1 is :0.868\n"
     ]
    }
   ],
   "source": [
    "#Testing on primary dataset\n",
    "svm_poly_prediction=svm_poly_classifier.predict(X_test)\n",
    "\n",
    "svm_poly_accuracy=accuracy_score(y_test,svm_poly_prediction)\n",
    "print(f\"SVM poly accuracy on primary dataset with strength=1 is :{svm_poly_accuracy}\")"
   ]
  },
  {
   "cell_type": "code",
   "execution_count": 10,
   "metadata": {},
   "outputs": [
    {
     "name": "stdout",
     "output_type": "stream",
     "text": [
      "total average recall:[0.86 0.84 0.96 0.78 0.74 0.84 0.82 0.68 0.94 0.6  0.98 0.8  0.6  0.88\n",
      " 0.82 0.8  0.94 0.74 0.88 0.92 0.98 0.98 0.9  0.84 0.88 0.98 0.9  0.9\n",
      " 0.96 0.92 0.86 0.88 0.82 0.96 0.76 0.58 0.88 0.92 0.88 0.96 0.68 0.86\n",
      " 0.98 0.86 0.9  0.98 1.   0.98 1.   1.  ], and \n",
      " precision:[0.95555556 0.875      0.92307692 1.         0.86046512 0.91304348\n",
      " 0.93181818 0.94444444 0.90384615 0.96774194 0.875      0.93023256\n",
      " 0.85714286 0.88       0.85416667 0.97560976 0.92156863 0.94871795\n",
      " 0.83018868 0.88461538 0.96078431 0.74242424 0.91836735 0.82352941\n",
      " 0.95652174 0.80327869 0.76271186 0.76271186 0.71641791 1.\n",
      " 0.87755102 0.93617021 0.93181818 0.94117647 0.86363636 0.96666667\n",
      " 0.72131148 0.93877551 0.89795918 0.88888889 0.77272727 0.55128205\n",
      " 0.94230769 0.89583333 0.9375     0.90740741 0.96153846 0.765625\n",
      " 0.98039216 0.69444444]\n"
     ]
    }
   ],
   "source": [
    "#Creating confusion matrix\n",
    "\n",
    "cf_svm_poly=confusion_matrix(y_test,svm_poly_prediction)\n",
    "df_cf=pd.DataFrame(cf_svm_poly)\n",
    "recall_poly=np.diag(cf_svm_poly)/np.sum(cf_svm_poly,axis=1)\n",
    "precision_poly=np.diag(cf_svm_poly)/np.sum(cf_svm_poly,axis=0)\n",
    "\n",
    "df_cf.to_csv('/home/sysadm/z/ML_P1/Confusion_matrix_folder/SVM_poly_conf_mat_primary.csv')\n",
    "\n",
    "print(f'total average recall:{recall_poly}, and \\n precision:{precision_poly}')"
   ]
  },
  {
   "cell_type": "markdown",
   "metadata": {},
   "source": [
    "Applying SVM kernel=rbf for training on ekush and test on primary dataset"
   ]
  },
  {
   "cell_type": "code",
   "execution_count": 11,
   "metadata": {},
   "outputs": [
    {
     "data": {
      "text/html": [
       "<style>#sk-container-id-2 {\n",
       "  /* Definition of color scheme common for light and dark mode */\n",
       "  --sklearn-color-text: black;\n",
       "  --sklearn-color-line: gray;\n",
       "  /* Definition of color scheme for unfitted estimators */\n",
       "  --sklearn-color-unfitted-level-0: #fff5e6;\n",
       "  --sklearn-color-unfitted-level-1: #f6e4d2;\n",
       "  --sklearn-color-unfitted-level-2: #ffe0b3;\n",
       "  --sklearn-color-unfitted-level-3: chocolate;\n",
       "  /* Definition of color scheme for fitted estimators */\n",
       "  --sklearn-color-fitted-level-0: #f0f8ff;\n",
       "  --sklearn-color-fitted-level-1: #d4ebff;\n",
       "  --sklearn-color-fitted-level-2: #b3dbfd;\n",
       "  --sklearn-color-fitted-level-3: cornflowerblue;\n",
       "\n",
       "  /* Specific color for light theme */\n",
       "  --sklearn-color-text-on-default-background: var(--sg-text-color, var(--theme-code-foreground, var(--jp-content-font-color1, black)));\n",
       "  --sklearn-color-background: var(--sg-background-color, var(--theme-background, var(--jp-layout-color0, white)));\n",
       "  --sklearn-color-border-box: var(--sg-text-color, var(--theme-code-foreground, var(--jp-content-font-color1, black)));\n",
       "  --sklearn-color-icon: #696969;\n",
       "\n",
       "  @media (prefers-color-scheme: dark) {\n",
       "    /* Redefinition of color scheme for dark theme */\n",
       "    --sklearn-color-text-on-default-background: var(--sg-text-color, var(--theme-code-foreground, var(--jp-content-font-color1, white)));\n",
       "    --sklearn-color-background: var(--sg-background-color, var(--theme-background, var(--jp-layout-color0, #111)));\n",
       "    --sklearn-color-border-box: var(--sg-text-color, var(--theme-code-foreground, var(--jp-content-font-color1, white)));\n",
       "    --sklearn-color-icon: #878787;\n",
       "  }\n",
       "}\n",
       "\n",
       "#sk-container-id-2 {\n",
       "  color: var(--sklearn-color-text);\n",
       "}\n",
       "\n",
       "#sk-container-id-2 pre {\n",
       "  padding: 0;\n",
       "}\n",
       "\n",
       "#sk-container-id-2 input.sk-hidden--visually {\n",
       "  border: 0;\n",
       "  clip: rect(1px 1px 1px 1px);\n",
       "  clip: rect(1px, 1px, 1px, 1px);\n",
       "  height: 1px;\n",
       "  margin: -1px;\n",
       "  overflow: hidden;\n",
       "  padding: 0;\n",
       "  position: absolute;\n",
       "  width: 1px;\n",
       "}\n",
       "\n",
       "#sk-container-id-2 div.sk-dashed-wrapped {\n",
       "  border: 1px dashed var(--sklearn-color-line);\n",
       "  margin: 0 0.4em 0.5em 0.4em;\n",
       "  box-sizing: border-box;\n",
       "  padding-bottom: 0.4em;\n",
       "  background-color: var(--sklearn-color-background);\n",
       "}\n",
       "\n",
       "#sk-container-id-2 div.sk-container {\n",
       "  /* jupyter's `normalize.less` sets `[hidden] { display: none; }`\n",
       "     but bootstrap.min.css set `[hidden] { display: none !important; }`\n",
       "     so we also need the `!important` here to be able to override the\n",
       "     default hidden behavior on the sphinx rendered scikit-learn.org.\n",
       "     See: https://github.com/scikit-learn/scikit-learn/issues/21755 */\n",
       "  display: inline-block !important;\n",
       "  position: relative;\n",
       "}\n",
       "\n",
       "#sk-container-id-2 div.sk-text-repr-fallback {\n",
       "  display: none;\n",
       "}\n",
       "\n",
       "div.sk-parallel-item,\n",
       "div.sk-serial,\n",
       "div.sk-item {\n",
       "  /* draw centered vertical line to link estimators */\n",
       "  background-image: linear-gradient(var(--sklearn-color-text-on-default-background), var(--sklearn-color-text-on-default-background));\n",
       "  background-size: 2px 100%;\n",
       "  background-repeat: no-repeat;\n",
       "  background-position: center center;\n",
       "}\n",
       "\n",
       "/* Parallel-specific style estimator block */\n",
       "\n",
       "#sk-container-id-2 div.sk-parallel-item::after {\n",
       "  content: \"\";\n",
       "  width: 100%;\n",
       "  border-bottom: 2px solid var(--sklearn-color-text-on-default-background);\n",
       "  flex-grow: 1;\n",
       "}\n",
       "\n",
       "#sk-container-id-2 div.sk-parallel {\n",
       "  display: flex;\n",
       "  align-items: stretch;\n",
       "  justify-content: center;\n",
       "  background-color: var(--sklearn-color-background);\n",
       "  position: relative;\n",
       "}\n",
       "\n",
       "#sk-container-id-2 div.sk-parallel-item {\n",
       "  display: flex;\n",
       "  flex-direction: column;\n",
       "}\n",
       "\n",
       "#sk-container-id-2 div.sk-parallel-item:first-child::after {\n",
       "  align-self: flex-end;\n",
       "  width: 50%;\n",
       "}\n",
       "\n",
       "#sk-container-id-2 div.sk-parallel-item:last-child::after {\n",
       "  align-self: flex-start;\n",
       "  width: 50%;\n",
       "}\n",
       "\n",
       "#sk-container-id-2 div.sk-parallel-item:only-child::after {\n",
       "  width: 0;\n",
       "}\n",
       "\n",
       "/* Serial-specific style estimator block */\n",
       "\n",
       "#sk-container-id-2 div.sk-serial {\n",
       "  display: flex;\n",
       "  flex-direction: column;\n",
       "  align-items: center;\n",
       "  background-color: var(--sklearn-color-background);\n",
       "  padding-right: 1em;\n",
       "  padding-left: 1em;\n",
       "}\n",
       "\n",
       "\n",
       "/* Toggleable style: style used for estimator/Pipeline/ColumnTransformer box that is\n",
       "clickable and can be expanded/collapsed.\n",
       "- Pipeline and ColumnTransformer use this feature and define the default style\n",
       "- Estimators will overwrite some part of the style using the `sk-estimator` class\n",
       "*/\n",
       "\n",
       "/* Pipeline and ColumnTransformer style (default) */\n",
       "\n",
       "#sk-container-id-2 div.sk-toggleable {\n",
       "  /* Default theme specific background. It is overwritten whether we have a\n",
       "  specific estimator or a Pipeline/ColumnTransformer */\n",
       "  background-color: var(--sklearn-color-background);\n",
       "}\n",
       "\n",
       "/* Toggleable label */\n",
       "#sk-container-id-2 label.sk-toggleable__label {\n",
       "  cursor: pointer;\n",
       "  display: block;\n",
       "  width: 100%;\n",
       "  margin-bottom: 0;\n",
       "  padding: 0.5em;\n",
       "  box-sizing: border-box;\n",
       "  text-align: center;\n",
       "}\n",
       "\n",
       "#sk-container-id-2 label.sk-toggleable__label-arrow:before {\n",
       "  /* Arrow on the left of the label */\n",
       "  content: \"▸\";\n",
       "  float: left;\n",
       "  margin-right: 0.25em;\n",
       "  color: var(--sklearn-color-icon);\n",
       "}\n",
       "\n",
       "#sk-container-id-2 label.sk-toggleable__label-arrow:hover:before {\n",
       "  color: var(--sklearn-color-text);\n",
       "}\n",
       "\n",
       "/* Toggleable content - dropdown */\n",
       "\n",
       "#sk-container-id-2 div.sk-toggleable__content {\n",
       "  max-height: 0;\n",
       "  max-width: 0;\n",
       "  overflow: hidden;\n",
       "  text-align: left;\n",
       "  /* unfitted */\n",
       "  background-color: var(--sklearn-color-unfitted-level-0);\n",
       "}\n",
       "\n",
       "#sk-container-id-2 div.sk-toggleable__content.fitted {\n",
       "  /* fitted */\n",
       "  background-color: var(--sklearn-color-fitted-level-0);\n",
       "}\n",
       "\n",
       "#sk-container-id-2 div.sk-toggleable__content pre {\n",
       "  margin: 0.2em;\n",
       "  border-radius: 0.25em;\n",
       "  color: var(--sklearn-color-text);\n",
       "  /* unfitted */\n",
       "  background-color: var(--sklearn-color-unfitted-level-0);\n",
       "}\n",
       "\n",
       "#sk-container-id-2 div.sk-toggleable__content.fitted pre {\n",
       "  /* unfitted */\n",
       "  background-color: var(--sklearn-color-fitted-level-0);\n",
       "}\n",
       "\n",
       "#sk-container-id-2 input.sk-toggleable__control:checked~div.sk-toggleable__content {\n",
       "  /* Expand drop-down */\n",
       "  max-height: 200px;\n",
       "  max-width: 100%;\n",
       "  overflow: auto;\n",
       "}\n",
       "\n",
       "#sk-container-id-2 input.sk-toggleable__control:checked~label.sk-toggleable__label-arrow:before {\n",
       "  content: \"▾\";\n",
       "}\n",
       "\n",
       "/* Pipeline/ColumnTransformer-specific style */\n",
       "\n",
       "#sk-container-id-2 div.sk-label input.sk-toggleable__control:checked~label.sk-toggleable__label {\n",
       "  color: var(--sklearn-color-text);\n",
       "  background-color: var(--sklearn-color-unfitted-level-2);\n",
       "}\n",
       "\n",
       "#sk-container-id-2 div.sk-label.fitted input.sk-toggleable__control:checked~label.sk-toggleable__label {\n",
       "  background-color: var(--sklearn-color-fitted-level-2);\n",
       "}\n",
       "\n",
       "/* Estimator-specific style */\n",
       "\n",
       "/* Colorize estimator box */\n",
       "#sk-container-id-2 div.sk-estimator input.sk-toggleable__control:checked~label.sk-toggleable__label {\n",
       "  /* unfitted */\n",
       "  background-color: var(--sklearn-color-unfitted-level-2);\n",
       "}\n",
       "\n",
       "#sk-container-id-2 div.sk-estimator.fitted input.sk-toggleable__control:checked~label.sk-toggleable__label {\n",
       "  /* fitted */\n",
       "  background-color: var(--sklearn-color-fitted-level-2);\n",
       "}\n",
       "\n",
       "#sk-container-id-2 div.sk-label label.sk-toggleable__label,\n",
       "#sk-container-id-2 div.sk-label label {\n",
       "  /* The background is the default theme color */\n",
       "  color: var(--sklearn-color-text-on-default-background);\n",
       "}\n",
       "\n",
       "/* On hover, darken the color of the background */\n",
       "#sk-container-id-2 div.sk-label:hover label.sk-toggleable__label {\n",
       "  color: var(--sklearn-color-text);\n",
       "  background-color: var(--sklearn-color-unfitted-level-2);\n",
       "}\n",
       "\n",
       "/* Label box, darken color on hover, fitted */\n",
       "#sk-container-id-2 div.sk-label.fitted:hover label.sk-toggleable__label.fitted {\n",
       "  color: var(--sklearn-color-text);\n",
       "  background-color: var(--sklearn-color-fitted-level-2);\n",
       "}\n",
       "\n",
       "/* Estimator label */\n",
       "\n",
       "#sk-container-id-2 div.sk-label label {\n",
       "  font-family: monospace;\n",
       "  font-weight: bold;\n",
       "  display: inline-block;\n",
       "  line-height: 1.2em;\n",
       "}\n",
       "\n",
       "#sk-container-id-2 div.sk-label-container {\n",
       "  text-align: center;\n",
       "}\n",
       "\n",
       "/* Estimator-specific */\n",
       "#sk-container-id-2 div.sk-estimator {\n",
       "  font-family: monospace;\n",
       "  border: 1px dotted var(--sklearn-color-border-box);\n",
       "  border-radius: 0.25em;\n",
       "  box-sizing: border-box;\n",
       "  margin-bottom: 0.5em;\n",
       "  /* unfitted */\n",
       "  background-color: var(--sklearn-color-unfitted-level-0);\n",
       "}\n",
       "\n",
       "#sk-container-id-2 div.sk-estimator.fitted {\n",
       "  /* fitted */\n",
       "  background-color: var(--sklearn-color-fitted-level-0);\n",
       "}\n",
       "\n",
       "/* on hover */\n",
       "#sk-container-id-2 div.sk-estimator:hover {\n",
       "  /* unfitted */\n",
       "  background-color: var(--sklearn-color-unfitted-level-2);\n",
       "}\n",
       "\n",
       "#sk-container-id-2 div.sk-estimator.fitted:hover {\n",
       "  /* fitted */\n",
       "  background-color: var(--sklearn-color-fitted-level-2);\n",
       "}\n",
       "\n",
       "/* Specification for estimator info (e.g. \"i\" and \"?\") */\n",
       "\n",
       "/* Common style for \"i\" and \"?\" */\n",
       "\n",
       ".sk-estimator-doc-link,\n",
       "a:link.sk-estimator-doc-link,\n",
       "a:visited.sk-estimator-doc-link {\n",
       "  float: right;\n",
       "  font-size: smaller;\n",
       "  line-height: 1em;\n",
       "  font-family: monospace;\n",
       "  background-color: var(--sklearn-color-background);\n",
       "  border-radius: 1em;\n",
       "  height: 1em;\n",
       "  width: 1em;\n",
       "  text-decoration: none !important;\n",
       "  margin-left: 1ex;\n",
       "  /* unfitted */\n",
       "  border: var(--sklearn-color-unfitted-level-1) 1pt solid;\n",
       "  color: var(--sklearn-color-unfitted-level-1);\n",
       "}\n",
       "\n",
       ".sk-estimator-doc-link.fitted,\n",
       "a:link.sk-estimator-doc-link.fitted,\n",
       "a:visited.sk-estimator-doc-link.fitted {\n",
       "  /* fitted */\n",
       "  border: var(--sklearn-color-fitted-level-1) 1pt solid;\n",
       "  color: var(--sklearn-color-fitted-level-1);\n",
       "}\n",
       "\n",
       "/* On hover */\n",
       "div.sk-estimator:hover .sk-estimator-doc-link:hover,\n",
       ".sk-estimator-doc-link:hover,\n",
       "div.sk-label-container:hover .sk-estimator-doc-link:hover,\n",
       ".sk-estimator-doc-link:hover {\n",
       "  /* unfitted */\n",
       "  background-color: var(--sklearn-color-unfitted-level-3);\n",
       "  color: var(--sklearn-color-background);\n",
       "  text-decoration: none;\n",
       "}\n",
       "\n",
       "div.sk-estimator.fitted:hover .sk-estimator-doc-link.fitted:hover,\n",
       ".sk-estimator-doc-link.fitted:hover,\n",
       "div.sk-label-container:hover .sk-estimator-doc-link.fitted:hover,\n",
       ".sk-estimator-doc-link.fitted:hover {\n",
       "  /* fitted */\n",
       "  background-color: var(--sklearn-color-fitted-level-3);\n",
       "  color: var(--sklearn-color-background);\n",
       "  text-decoration: none;\n",
       "}\n",
       "\n",
       "/* Span, style for the box shown on hovering the info icon */\n",
       ".sk-estimator-doc-link span {\n",
       "  display: none;\n",
       "  z-index: 9999;\n",
       "  position: relative;\n",
       "  font-weight: normal;\n",
       "  right: .2ex;\n",
       "  padding: .5ex;\n",
       "  margin: .5ex;\n",
       "  width: min-content;\n",
       "  min-width: 20ex;\n",
       "  max-width: 50ex;\n",
       "  color: var(--sklearn-color-text);\n",
       "  box-shadow: 2pt 2pt 4pt #999;\n",
       "  /* unfitted */\n",
       "  background: var(--sklearn-color-unfitted-level-0);\n",
       "  border: .5pt solid var(--sklearn-color-unfitted-level-3);\n",
       "}\n",
       "\n",
       ".sk-estimator-doc-link.fitted span {\n",
       "  /* fitted */\n",
       "  background: var(--sklearn-color-fitted-level-0);\n",
       "  border: var(--sklearn-color-fitted-level-3);\n",
       "}\n",
       "\n",
       ".sk-estimator-doc-link:hover span {\n",
       "  display: block;\n",
       "}\n",
       "\n",
       "/* \"?\"-specific style due to the `<a>` HTML tag */\n",
       "\n",
       "#sk-container-id-2 a.estimator_doc_link {\n",
       "  float: right;\n",
       "  font-size: 1rem;\n",
       "  line-height: 1em;\n",
       "  font-family: monospace;\n",
       "  background-color: var(--sklearn-color-background);\n",
       "  border-radius: 1rem;\n",
       "  height: 1rem;\n",
       "  width: 1rem;\n",
       "  text-decoration: none;\n",
       "  /* unfitted */\n",
       "  color: var(--sklearn-color-unfitted-level-1);\n",
       "  border: var(--sklearn-color-unfitted-level-1) 1pt solid;\n",
       "}\n",
       "\n",
       "#sk-container-id-2 a.estimator_doc_link.fitted {\n",
       "  /* fitted */\n",
       "  border: var(--sklearn-color-fitted-level-1) 1pt solid;\n",
       "  color: var(--sklearn-color-fitted-level-1);\n",
       "}\n",
       "\n",
       "/* On hover */\n",
       "#sk-container-id-2 a.estimator_doc_link:hover {\n",
       "  /* unfitted */\n",
       "  background-color: var(--sklearn-color-unfitted-level-3);\n",
       "  color: var(--sklearn-color-background);\n",
       "  text-decoration: none;\n",
       "}\n",
       "\n",
       "#sk-container-id-2 a.estimator_doc_link.fitted:hover {\n",
       "  /* fitted */\n",
       "  background-color: var(--sklearn-color-fitted-level-3);\n",
       "}\n",
       "</style><div id=\"sk-container-id-2\" class=\"sk-top-container\"><div class=\"sk-text-repr-fallback\"><pre>SVC()</pre><b>In a Jupyter environment, please rerun this cell to show the HTML representation or trust the notebook. <br />On GitHub, the HTML representation is unable to render, please try loading this page with nbviewer.org.</b></div><div class=\"sk-container\" hidden><div class=\"sk-item\"><div class=\"sk-estimator fitted sk-toggleable\"><input class=\"sk-toggleable__control sk-hidden--visually\" id=\"sk-estimator-id-2\" type=\"checkbox\" checked><label for=\"sk-estimator-id-2\" class=\"sk-toggleable__label fitted sk-toggleable__label-arrow fitted\">&nbsp;&nbsp;SVC<a class=\"sk-estimator-doc-link fitted\" rel=\"noreferrer\" target=\"_blank\" href=\"https://scikit-learn.org/1.4/modules/generated/sklearn.svm.SVC.html\">?<span>Documentation for SVC</span></a><span class=\"sk-estimator-doc-link fitted\">i<span>Fitted</span></span></label><div class=\"sk-toggleable__content fitted\"><pre>SVC()</pre></div> </div></div></div></div>"
      ],
      "text/plain": [
       "SVC()"
      ]
     },
     "execution_count": 11,
     "metadata": {},
     "output_type": "execute_result"
    }
   ],
   "source": [
    "#Training on ekush using svm rbf kernel.\n",
    "svm_rbf_classifier=SVC(kernel='rbf')\n",
    "svm_rbf_classifier.fit(X_train,y_train)\n"
   ]
  },
  {
   "cell_type": "code",
   "execution_count": 12,
   "metadata": {},
   "outputs": [
    {
     "name": "stdout",
     "output_type": "stream",
     "text": [
      "On primary data SVM with kernel =rbf and c=1 gives test accuracy:0.8812 \n"
     ]
    }
   ],
   "source": [
    "#Testing on primary dataset.\n",
    "svm_rbf_predict=svm_rbf_classifier.predict(X_test)\n",
    "svm_rbf_accuracy=accuracy_score(y_test,svm_rbf_predict)\n",
    "\n",
    "print(f\"On primary data SVM with kernel =rbf and c=1 gives test accuracy:{svm_rbf_accuracy} \")\n"
   ]
  },
  {
   "cell_type": "code",
   "execution_count": 14,
   "metadata": {},
   "outputs": [
    {
     "name": "stdout",
     "output_type": "stream",
     "text": [
      "total recall:[0.88 0.88 0.96 0.82 0.76 0.9  0.9  0.86 0.98 0.72 0.98 0.84 0.58 0.82\n",
      " 0.82 0.88 0.9  0.76 0.84 0.9  0.98 0.98 0.9  0.8  0.9  0.94 0.96 0.9\n",
      " 0.92 0.94 0.84 0.86 0.82 0.94 0.78 0.7  0.94 0.9  0.88 0.98 0.78 0.8\n",
      " 0.96 0.9  0.88 0.98 1.   0.94 1.   0.98], and \n",
      " precision:[0.91666667 0.8627451  0.90566038 0.97619048 0.88372093 0.88235294\n",
      " 0.95744681 0.91489362 0.83050847 0.97297297 0.85964912 0.93333333\n",
      " 0.80555556 0.89130435 0.89130435 0.89795918 0.95744681 0.92682927\n",
      " 0.84       0.83333333 0.9245283  0.79032258 0.91836735 0.85106383\n",
      " 0.86538462 0.8245614  0.81355932 0.68181818 0.86792453 0.92156863\n",
      " 0.91304348 0.87755102 0.93181818 0.88679245 0.82978723 0.92105263\n",
      " 0.79661017 0.9        0.81481481 0.75384615 0.86666667 0.75471698\n",
      " 0.94117647 0.9375     0.97777778 0.9245283  0.94339623 0.97916667\n",
      " 0.98039216 0.98      ]\n"
     ]
    }
   ],
   "source": [
    "#Creating confusion matrix of svm with rbf kernel.\n",
    "cf_svm_rbf=confusion_matrix(y_test,svm_rbf_predict)\n",
    "\n",
    "df_cf=pd.DataFrame(cf_svm_rbf)\n",
    "recall_rbf=np.diag(cf_svm_rbf)/np.sum(cf_svm_rbf,axis=1)\n",
    "precision_rbf=np.diag(cf_svm_rbf)/np.sum(cf_svm_rbf,axis=0)\n",
    "\n",
    "print(f'total recall:{recall_rbf}, and \\n precision:{precision_rbf}')\n",
    "df_cf.to_csv('/home/sysadm/z/ML_P1/Confusion_matrix_folder/SVM_rbf_conf_mat_primary.csv')\n"
   ]
  },
  {
   "cell_type": "markdown",
   "metadata": {},
   "source": [
    "Now we will fit using knn(nn=7,metric=euclidean) in ekush and then test on primary dataset."
   ]
  },
  {
   "cell_type": "code",
   "execution_count": 15,
   "metadata": {},
   "outputs": [
    {
     "name": "stdout",
     "output_type": "stream",
     "text": [
      "knn accuracy with euclidean metric on primary dataset is:0.698 with 7 nearest neighbours.\n",
      "total recall:[0.68 0.64 0.62 0.36 0.58 0.32 0.48 0.7  0.66 0.64 0.76 0.62 0.44 0.58\n",
      " 0.6  0.72 0.88 0.7  0.54 0.82 0.88 0.9  0.82 0.74 0.84 0.92 0.88 0.8\n",
      " 0.9  0.74 0.76 0.82 0.44 0.84 0.34 0.36 0.7  0.74 0.54 0.68 0.3  0.36\n",
      " 0.8  0.8  0.9  0.78 1.   1.   1.   0.98], and \n",
      " precision:[0.82926829 0.84210526 0.83783784 0.9        0.60416667 0.88888889\n",
      " 0.96       0.67307692 0.94285714 0.94117647 1.         0.70454545\n",
      " 0.61111111 0.70731707 0.56603774 1.         0.72131148 0.83333333\n",
      " 0.87096774 0.5942029  0.97777778 0.72580645 0.85416667 0.51388889\n",
      " 0.63636364 0.50549451 0.65671642 0.59701493 0.48387097 0.97368421\n",
      " 0.56716418 0.80392157 0.95652174 0.48837209 0.77272727 0.51428571\n",
      " 0.35714286 0.90243902 0.77142857 0.97142857 0.39473684 0.62068966\n",
      " 0.6557377  0.85106383 0.77586207 0.73584906 0.87719298 0.81967213\n",
      " 0.79365079 0.5326087 ]\n"
     ]
    }
   ],
   "source": [
    "knn = KNeighborsClassifier(7,metric='euclidean')\n",
    "knn.fit(X_train, y_train)\n",
    "\n",
    "knn_pred = knn.predict(X_test)\n",
    "knn_accuracy = accuracy_score(y_test, knn_pred)\n",
    "\n",
    "cf_knn=confusion_matrix(y_test,knn_pred)\n",
    "\n",
    "recall_knn=np.diag(cf_knn)/np.sum(cf_knn,axis=1)\n",
    "precision_knn=np.diag(cf_knn)/np.sum(cf_knn,axis=0)\n",
    "\n",
    "print(f'knn accuracy with euclidean metric on primary dataset is:{knn_accuracy} with 7 nearest neighbours.')\n",
    "print(f'total recall:{recall_knn}, and \\n precision:{precision_knn}')\n"
   ]
  },
  {
   "cell_type": "code",
   "execution_count": 16,
   "metadata": {},
   "outputs": [],
   "source": [
    "df_cf=pd.DataFrame(cf_knn)\n",
    "df_cf.to_csv('/home/sysadm/z/ML_P1/Confusion_matrix_folder/knn_conf_euclid_primary.csv')"
   ]
  },
  {
   "cell_type": "markdown",
   "metadata": {},
   "source": [
    "Now we will fit using knn(nn=7,metric=manhattan) in ekush and then test on primary dataset."
   ]
  },
  {
   "cell_type": "code",
   "execution_count": 17,
   "metadata": {},
   "outputs": [
    {
     "name": "stdout",
     "output_type": "stream",
     "text": [
      "knn accuracy with manhattan metric on primary dataset is:0.6204 with 7 nearest neighbours.\n",
      "total recall:[0.6  0.54 0.38 0.14 0.32 0.2  0.4  0.6  0.36 0.5  0.6  0.52 0.46 0.58\n",
      " 0.58 0.56 0.76 0.56 0.46 0.76 0.72 0.78 0.64 0.7  0.8  0.98 0.82 0.72\n",
      " 0.86 0.7  0.74 0.76 0.42 0.84 0.42 0.28 0.76 0.62 0.52 0.6  0.2  0.36\n",
      " 0.76 0.66 0.86 0.72 0.98 0.94 1.   0.98], and \n",
      " precision:[0.81081081 0.79411765 0.76       0.7        0.64       1.\n",
      " 1.         0.68181818 0.85714286 0.89285714 1.         0.78787879\n",
      " 0.67647059 0.70731707 0.65909091 0.90322581 0.63333333 0.93333333\n",
      " 0.88461538 0.62295082 0.94736842 0.76470588 0.88888889 0.53846154\n",
      " 0.47619048 0.49       0.67213115 0.53731343 0.38392857 0.97222222\n",
      " 0.53623188 0.88372093 0.875      0.46666667 0.875      0.48275862\n",
      " 0.36190476 0.775      0.72222222 0.9375     0.23255814 0.5625\n",
      " 0.62295082 0.76744186 0.71666667 0.72       0.69014085 0.74603175\n",
      " 0.625      0.23222749]\n"
     ]
    }
   ],
   "source": [
    "knn = KNeighborsClassifier(7,metric='manhattan')\n",
    "knn.fit(X_train, y_train)\n",
    "\n",
    "knn_pred = knn.predict(X_test)\n",
    "knn_accuracy = accuracy_score(y_test, knn_pred)\n",
    "\n",
    "cf_knn=confusion_matrix(y_test,knn_pred)\n",
    "\n",
    "recall_knn=np.diag(cf_knn)/np.sum(cf_knn,axis=1)\n",
    "precision_knn=np.diag(cf_knn)/np.sum(cf_knn,axis=0)\n",
    "\n",
    "print(f'knn accuracy with manhattan metric on primary dataset is:{knn_accuracy} with 7 nearest neighbours.')\n",
    "print(f'total recall:{recall_knn}, and \\n precision:{precision_knn}')\n"
   ]
  },
  {
   "cell_type": "code",
   "execution_count": 18,
   "metadata": {},
   "outputs": [],
   "source": [
    "df_cf=pd.DataFrame(cf_knn)\n",
    "df_cf.to_csv('/home/sysadm/z/ML_P1/Confusion_matrix_folder/knn_conf_manhattan_primary.csv')"
   ]
  },
  {
   "cell_type": "markdown",
   "metadata": {},
   "source": [
    "Now we will fit using decision tree and then test on primary dataset."
   ]
  },
  {
   "cell_type": "code",
   "execution_count": 40,
   "metadata": {},
   "outputs": [
    {
     "name": "stdout",
     "output_type": "stream",
     "text": [
      "decision tree accuracy with on primary data set is:0.2548\n",
      "total recall:[0.24 0.2  0.3  0.1  0.1  0.14 0.26 0.26 0.3  0.02 0.46 0.28 0.16 0.38\n",
      " 0.14 0.16 0.2  0.22 0.08 0.22 0.4  0.34 0.4  0.26 0.18 0.3  0.3  0.22\n",
      " 0.18 0.16 0.1  0.22 0.18 0.26 0.1  0.08 0.14 0.2  0.14 0.28 0.18 0.12\n",
      " 0.38 0.28 0.36 0.24 0.46 0.52 0.74 0.8 ], and \n",
      " precision:[0.20689655 0.19230769 0.25423729 0.15151515 0.11111111 0.33333333\n",
      " 0.37142857 0.27083333 0.31914894 0.09090909 0.34328358 0.3255814\n",
      " 0.16326531 0.33333333 0.14       0.61538462 0.26315789 0.21568627\n",
      " 0.1025641  0.2037037  0.71428571 0.22368421 0.28571429 0.19402985\n",
      " 0.24324324 0.28846154 0.3125     0.25       0.15       0.18604651\n",
      " 0.13157895 0.30555556 0.16363636 0.34210526 0.33333333 0.11428571\n",
      " 0.18918919 0.20408163 0.09722222 0.20895522 0.14516129 0.11764706\n",
      " 0.32758621 0.23333333 0.31578947 0.21428571 0.359375   0.37142857\n",
      " 0.52112676 0.35087719]\n"
     ]
    }
   ],
   "source": [
    "#tree_clf = DecisionTreeClassifier(min_samples_leaf=12,min_samples_split=14)\n",
    "tree_clf = DecisionTreeClassifier(criterion='gini',  # Similar to Random Forest\n",
    "                                       splitter='best',  # Default behavior of Random Forest\n",
    "                                       max_depth=None,  # Default value of Random Forest\n",
    "                                       min_samples_split=5,  # Default value of Random Forest\n",
    "                                       min_samples_leaf=5,  # Default value of Random Forest\n",
    "                                       min_weight_fraction_leaf=0.0,  # Default value of Random Forest\n",
    "                                       max_features=None,  # Default value of Random Forest\n",
    "                                       max_leaf_nodes=None,  # Default value of Random Forest\n",
    "                                       min_impurity_decrease=0.0)  # Default value of Random Forest\n",
    "\n",
    "tree_clf.fit(X_train,y_train)\n",
    "tree_pred=tree_clf.predict(X_test)\n",
    "tree_clf_accuracy=accuracy_score(y_test,tree_pred)\n",
    "\n",
    "cf_tree=confusion_matrix(y_test,tree_pred)\n",
    "\n",
    "recall_tree=np.diag(cf_tree)/np.sum(cf_tree,axis=1)\n",
    "precision_tree=np.diag(cf_tree)/np.sum(cf_tree,axis=0)\n",
    "\n",
    "print(f\"decision tree accuracy with on primary data set is:{tree_clf_accuracy}\")\n",
    "print(f'total recall:{recall_tree}, and \\n precision:{precision_tree}')\n",
    "\n"
   ]
  },
  {
   "cell_type": "code",
   "execution_count": 41,
   "metadata": {},
   "outputs": [],
   "source": [
    "df_cf=pd.DataFrame(cf_tree)\n",
    "df_cf.to_csv('/home/sysadm/z/ML_P1/Confusion_matrix_folder/tree_conf_primary.csv')"
   ]
  },
  {
   "cell_type": "markdown",
   "metadata": {},
   "source": [
    "Now we will fit using random forest and then test on primary data."
   ]
  },
  {
   "cell_type": "code",
   "execution_count": 37,
   "metadata": {},
   "outputs": [
    {
     "name": "stdout",
     "output_type": "stream",
     "text": [
      "Number of trees: 380\n",
      "Criterion: gini\n",
      "Max depth: None\n",
      "Min samples split: 5\n",
      "Min samples leaf: 1\n",
      "Min weight fraction leaf: 0.0\n",
      "Max features: sqrt\n",
      "Max leaf nodes: None\n"
     ]
    }
   ],
   "source": [
    "print(\"Number of trees:\", random_forest_clf.n_estimators)\n",
    "print(\"Criterion:\", random_forest_clf.criterion)\n",
    "print(\"Max depth:\", random_forest_clf.max_depth)\n",
    "print(\"Min samples split:\", random_forest_clf.min_samples_split)\n",
    "print(\"Min samples leaf:\", random_forest_clf.min_samples_leaf)\n",
    "print(\"Min weight fraction leaf:\", random_forest_clf.min_weight_fraction_leaf)\n",
    "print(\"Max features:\", random_forest_clf.max_features)\n",
    "print(\"Max leaf nodes:\", random_forest_clf.max_leaf_nodes)"
   ]
  },
  {
   "cell_type": "code",
   "execution_count": 38,
   "metadata": {},
   "outputs": [
    {
     "name": "stdout",
     "output_type": "stream",
     "text": [
      "Accuracy score on primary dataset with random forest trained on Ekush data is0.6336\n",
      "total recall:[0.6  0.78 0.76 0.38 0.24 0.26 0.68 0.42 0.72 0.08 0.82 0.44 0.52 0.52\n",
      " 0.48 0.28 0.52 0.5  0.34 0.86 0.96 0.88 0.78 0.62 0.78 0.92 0.78 0.78\n",
      " 0.92 0.6  0.5  0.68 0.68 0.8  0.36 0.36 0.6  0.58 0.64 0.74 0.36 0.4\n",
      " 0.66 0.74 0.76 0.76 0.96 0.9  1.   0.98], and \n",
      " precision:[0.85714286 0.68421053 0.63333333 0.82608696 0.48       0.92857143\n",
      " 0.82926829 0.7        0.8        0.8        0.50617284 0.88\n",
      " 0.7027027  0.63414634 0.77419355 0.73684211 0.72222222 0.86206897\n",
      " 0.68       0.58108108 0.84210526 0.57142857 0.67241379 0.70454545\n",
      " 0.61904762 0.54117647 0.65       0.54166667 0.26285714 0.81081081\n",
      " 0.86206897 0.77272727 0.79069767 0.86956522 0.75       0.51428571\n",
      " 0.50847458 0.87878788 0.84210526 0.74       0.36734694 0.64516129\n",
      " 0.73333333 0.67272727 0.7755102  0.69090909 0.55172414 0.50561798\n",
      " 0.61728395 0.50515464]\n"
     ]
    }
   ],
   "source": [
    "random_forest_clf=RandomForestClassifier(n_estimators=380,min_samples_split=5)\n",
    "random_forest_clf.fit(X_train,y_train)\n",
    "rf_pred=random_forest_clf.predict(X_test)\n",
    "rf_accuracy=accuracy_score(y_test,rf_pred)\n",
    "print(f'Accuracy score on primary dataset with random forest trained on Ekush data is{rf_accuracy}')\n",
    "### Confusion matrix ####\n",
    "\n",
    "cf_rf=confusion_matrix(y_test,rf_pred)\n",
    "recall_rf=np.diag(cf_rf)/np.sum(cf_rf,axis=1)\n",
    "precision_rf=np.diag(cf_rf)/np.sum(cf_rf,axis=0)\n",
    "\n",
    "print(f'total recall:{recall_rf}, and \\n precision:{precision_rf}')\n"
   ]
  },
  {
   "cell_type": "code",
   "execution_count": 22,
   "metadata": {},
   "outputs": [],
   "source": [
    "df_cf=pd.DataFrame(cf_rf)\n",
    "df_cf.to_csv('/home/sysadm/z/ML_P1/Confusion_matrix_folder/rf_conf_primary.csv')"
   ]
  },
  {
   "cell_type": "markdown",
   "metadata": {},
   "source": [
    "Now we will fit using bayes and then test on primary dataset."
   ]
  },
  {
   "cell_type": "code",
   "execution_count": 23,
   "metadata": {},
   "outputs": [
    {
     "name": "stdout",
     "output_type": "stream",
     "text": [
      "Bayes Classifier accuracy on primary dataset is :0.1756\n",
      "total recall:[0.1  0.96 0.76 0.14 0.18 0.28 0.08 0.02 0.5  0.   0.78 0.04 0.   0.02\n",
      " 0.06 0.02 0.02 0.2  0.04 0.   0.2  0.82 0.48 0.   0.5  0.3  0.2  0.02\n",
      " 0.1  0.4  0.   0.   0.04 0.   0.   0.   0.08 0.   0.06 0.22 0.   0.\n",
      " 0.   0.04 0.24 0.02 0.6  0.   0.16 0.1 ], and \n",
      " precision:[0.02427184 0.05769231 0.28787879 0.25       0.21428571 0.34146341\n",
      " 0.28571429 0.16666667 0.34246575 0.         0.35454545 0.28571429\n",
      " 0.         0.5        0.13636364 0.33333333 1.         0.41666667\n",
      " 0.66666667 0.         0.47619048 0.21693122 0.375             nan\n",
      " 0.17605634 0.57692308 0.08196721 0.16666667 0.55555556 0.47619048\n",
      "        nan        nan 0.25              nan        nan 0.\n",
      " 0.15384615        nan 0.05084746 0.10784314 0.                nan\n",
      "        nan 0.5        0.46153846 0.05       0.58823529 0.\n",
      " 0.8        0.83333333]\n"
     ]
    },
    {
     "name": "stderr",
     "output_type": "stream",
     "text": [
      "/tmp/ipykernel_4451/3196410475.py:14: RuntimeWarning: invalid value encountered in divide\n",
      "  precision_bayes=np.diag(cf_bayes)/np.sum(cf_bayes,axis=0)\n"
     ]
    }
   ],
   "source": [
    "bayes_clf=GaussianNB()\n",
    "\n",
    "bayes_clf.fit(X_train,y_train)\n",
    "\n",
    "bayes_prediction=bayes_clf.predict(X_test)\n",
    "\n",
    "bayes_accuracy=accuracy_score(y_test,bayes_prediction)\n",
    "\n",
    "print(f\"Bayes Classifier accuracy on primary dataset is :{bayes_accuracy}\")\n",
    "\n",
    "cf_bayes=confusion_matrix(y_test,bayes_prediction)\n",
    "\n",
    "recall_bayes=np.diag(cf_bayes)/np.sum(cf_bayes,axis=1)\n",
    "precision_bayes=np.diag(cf_bayes)/np.sum(cf_bayes,axis=0)\n",
    "\n",
    "print(f'total recall:{recall_bayes}, and \\n precision:{precision_bayes}')"
   ]
  },
  {
   "cell_type": "code",
   "execution_count": 26,
   "metadata": {},
   "outputs": [],
   "source": [
    "df_cf=pd.DataFrame(cf_bayes)\n",
    "\n",
    "df_cf.to_csv('/home/sysadm/z/ML_P1/Confusion_matrix_folder/bayes_gauss_conf_primary.csv')"
   ]
  },
  {
   "cell_type": "markdown",
   "metadata": {},
   "source": [
    "Multinomial bayes"
   ]
  },
  {
   "cell_type": "code",
   "execution_count": 42,
   "metadata": {},
   "outputs": [
    {
     "name": "stdout",
     "output_type": "stream",
     "text": [
      "Bayes classifier accuracy on Bangla Lekha isolated is:0.4728\n",
      "total recall:[0.34 0.88 0.76 0.42 0.42 0.54 0.4  0.5  0.78 0.5  0.9  0.18 0.46 0.22\n",
      " 0.1  0.36 0.28 0.38 0.18 0.46 0.86 0.64 0.8  0.22 0.38 0.76 0.22 0.5\n",
      " 0.54 0.64 0.18 0.4  0.58 0.2  0.12 0.08 0.22 0.4  0.12 0.56 0.1  0.16\n",
      " 0.58 0.54 0.82 0.38 0.96 0.72 0.98 0.92], and \n",
      " precision:[0.27868852 0.21890547 0.48717949 0.77777778 0.65625    0.71052632\n",
      " 0.66666667 0.69444444 0.69642857 0.54347826 0.56962025 0.25714286\n",
      " 0.30666667 0.35483871 0.5        0.66666667 0.48275862 0.44186047\n",
      " 0.69230769 0.15646259 0.76785714 0.64       0.6557377  0.5\n",
      " 0.43181818 0.42696629 0.35483871 0.17482517 0.46551724 0.7804878\n",
      " 0.75       0.51282051 0.53703704 0.47619048 0.5        0.16666667\n",
      " 0.35483871 0.52631579 0.46153846 0.29473684 0.26315789 0.88888889\n",
      " 0.42647059 0.6        0.53947368 0.43181818 0.8        0.81818182\n",
      " 0.85964912 0.92      ]\n"
     ]
    }
   ],
   "source": [
    "bayes_clf=MultinomialNB(alpha = 30)\n",
    "bayes_clf.fit(X_train,y_train)\n",
    "bayes_pred_mult=bayes_clf.predict(X_test)\n",
    "bayes_mult_accuracy=accuracy_score(y_test,bayes_pred_mult)\n",
    "print(f'Bayes classifier accuracy on Bangla Lekha isolated is:{bayes_mult_accuracy}')\n",
    "\n",
    "cf_bayes=confusion_matrix(y_test,bayes_pred_mult)\n",
    "\n",
    "recall_bayes_mult=np.diag(cf_bayes)/np.sum(cf_bayes,axis=1)\n",
    "precision_bayes_mult=np.diag(cf_bayes)/np.sum(cf_bayes,axis=0)\n",
    "\n",
    "print(f'total recall:{recall_bayes_mult}, and \\n precision:{precision_bayes_mult}')"
   ]
  },
  {
   "cell_type": "code",
   "execution_count": 43,
   "metadata": {},
   "outputs": [],
   "source": [
    "df_cf=pd.DataFrame(cf_bayes)\n",
    "\n",
    "df_cf.to_csv('/home/sysadm/z/ML_P1/Confusion_matrix_folder/bayes_mult_conf_primary.csv')"
   ]
  },
  {
   "cell_type": "markdown",
   "metadata": {},
   "source": [
    "Now we will fit using logistic regression and then test on primary dataset.(softmax i.e multinomial logistic.)"
   ]
  },
  {
   "cell_type": "code",
   "execution_count": 27,
   "metadata": {},
   "outputs": [
    {
     "name": "stdout",
     "output_type": "stream",
     "text": [
      "Accuracy on primary data using Logistic with multiclass is 0.5568\n",
      "total recall:[0.66 0.5  0.68 0.64 0.42 0.58 0.38 0.56 0.8  0.34 0.82 0.54 0.24 0.46\n",
      " 0.52 0.34 0.44 0.4  0.36 0.5  0.8  0.8  0.78 0.4  0.76 0.68 0.7  0.5\n",
      " 0.48 0.56 0.2  0.24 0.66 0.26 0.38 0.24 0.58 0.52 0.56 0.82 0.38 0.44\n",
      " 0.68 0.6  0.58 0.58 0.9  0.62 0.98 0.98], and \n",
      " precision:[0.42307692 0.52083333 0.5        0.64       0.46666667 0.55769231\n",
      " 0.55882353 0.73684211 0.71428571 0.65384615 0.48235294 0.57446809\n",
      " 0.44444444 0.54761905 0.5        0.68       0.6875     0.45454545\n",
      " 0.64285714 0.65789474 0.90909091 0.51948052 0.57352941 0.55555556\n",
      " 0.52777778 0.65384615 0.46666667 0.37878788 0.68571429 0.66666667\n",
      " 0.58823529 0.75       0.56896552 0.52       0.39583333 0.36363636\n",
      " 0.44615385 0.63414634 0.48275862 0.21693122 0.45238095 0.47826087\n",
      " 0.75555556 0.63829787 0.725      0.65909091 0.83333333 0.88571429\n",
      " 0.96078431 0.765625  ]\n"
     ]
    }
   ],
   "source": [
    "logistic_clf=LogisticRegression(penalty=\"l2\",C=0.3,solver='newton-cg',max_iter=400,multi_class='multinomial')\n",
    "logistic_clf.fit(X_train,y_train)\n",
    "log_pred=logistic_clf.predict(X_test)\n",
    "\n",
    "log_accuracy=accuracy_score(y_test,log_pred)\n",
    "print(f\"Accuracy on primary data using Logistic with multiclass is {log_accuracy}\")\n",
    "### Confusion matrix ####\n",
    "cf_log=confusion_matrix(y_test,log_pred)\n",
    "recall_log=np.diag(cf_log)/np.sum(cf_log,axis=1)\n",
    "precision_log=np.diag(cf_log)/np.sum(cf_log,axis=0)\n",
    "\n",
    "print(f'total recall:{recall_log}, and \\n precision:{precision_log}')"
   ]
  },
  {
   "cell_type": "code",
   "execution_count": 28,
   "metadata": {},
   "outputs": [],
   "source": [
    "df_cf=pd.DataFrame(cf_log)\n",
    "df_cf.to_csv('/home/sysadm/z/ML_P1/Confusion_matrix_folder/log_conf_matrix_primary.csv')"
   ]
  }
 ],
 "metadata": {
  "kernelspec": {
   "display_name": "base",
   "language": "python",
   "name": "python3"
  },
  "language_info": {
   "codemirror_mode": {
    "name": "ipython",
    "version": 3
   },
   "file_extension": ".py",
   "mimetype": "text/x-python",
   "name": "python",
   "nbconvert_exporter": "python",
   "pygments_lexer": "ipython3",
   "version": "3.10.12"
  }
 },
 "nbformat": 4,
 "nbformat_minor": 2
}
