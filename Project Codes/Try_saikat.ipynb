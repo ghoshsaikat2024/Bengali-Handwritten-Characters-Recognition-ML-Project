{
 "cells": [
  {
   "cell_type": "markdown",
   "metadata": {},
   "source": [
    "Working on cleaned bangla isolated dataset ."
   ]
  },
  {
   "cell_type": "code",
   "execution_count": 1,
   "metadata": {},
   "outputs": [
    {
     "name": "stderr",
     "output_type": "stream",
     "text": [
      "/usr/lib/python3/dist-packages/scipy/__init__.py:146: UserWarning: A NumPy version >=1.17.3 and <1.25.0 is required for this version of SciPy (detected version 1.26.4\n",
      "  warnings.warn(f\"A NumPy version >={np_minversion} and <{np_maxversion}\"\n"
     ]
    }
   ],
   "source": [
    "import os\n",
    "import cv2\n",
    "import numpy as np\n",
    "import dask\n",
    "import dask.array as da\n",
    "import pandas as pd"
   ]
  },
  {
   "cell_type": "markdown",
   "metadata": {},
   "source": [
    "Loading ekush dataset."
   ]
  },
  {
   "cell_type": "code",
   "execution_count": 2,
   "metadata": {},
   "outputs": [
    {
     "data": {
      "text/plain": [
       "(149341, 785)"
      ]
     },
     "execution_count": 2,
     "metadata": {},
     "output_type": "execute_result"
    }
   ],
   "source": [
    "ekush_data_path_np='/home/saikat/Desktop/ML_Project/Data_npy_files/ekush_data.npy'\n",
    "ekush=np.load(ekush_data_path_np).astype('float16')\n",
    "\n",
    "ekush.shape"
   ]
  },
  {
   "cell_type": "markdown",
   "metadata": {},
   "source": [
    "Loading bangla isolated cleaned dataset .npy file"
   ]
  },
  {
   "cell_type": "code",
   "execution_count": 3,
   "metadata": {},
   "outputs": [
    {
     "data": {
      "text/plain": [
       "(86458, 785)"
      ]
     },
     "execution_count": 3,
     "metadata": {},
     "output_type": "execute_result"
    }
   ],
   "source": [
    "bangla_isolated_path=r'/home/saikat/Desktop/ML_Project/Clean_data_npy/clean_bangla_lekha_data.npy'\n",
    "bangla_isolated=np.load(bangla_isolated_path).astype('float16')\n",
    "\n",
    "bangla_isolated.shape"
   ]
  },
  {
   "cell_type": "code",
   "execution_count": 5,
   "metadata": {},
   "outputs": [],
   "source": [
    "from sklearn.model_selection import train_test_split\n",
    "from sklearn.svm import SVC\n",
    "from sklearn.ensemble import RandomForestClassifier\n",
    "from sklearn.naive_bayes import GaussianNB\n",
    "from sklearn.metrics import accuracy_score,confusion_matrix,f1_score,precision_score"
   ]
  },
  {
   "cell_type": "code",
   "execution_count": 4,
   "metadata": {},
   "outputs": [
    {
     "name": "stdout",
     "output_type": "stream",
     "text": [
      "Training data is Ekush with image size:(149341, 784) and training label size:(149341,)\n",
      " Test data is Bangla isolated with image size:(86458, 784)\n"
     ]
    }
   ],
   "source": [
    "X_train,y_train=ekush[:,:784],ekush[:,-1]\n",
    "X_test,y_test=bangla_isolated[:,:784],bangla_isolated[:,-1]\n",
    "\n",
    "print(f'Training data is Ekush with image size:{X_train.shape} and training label size:{y_train.shape}\\n Test data is Bangla isolated with image size:{X_test.shape}')"
   ]
  },
  {
   "cell_type": "markdown",
   "metadata": {},
   "source": [
    "Training and testing with SVC kernel = rbf and poly"
   ]
  },
  {
   "cell_type": "code",
   "execution_count": 6,
   "metadata": {},
   "outputs": [
    {
     "name": "stdout",
     "output_type": "stream",
     "text": [
      "On bangla lekha isolated SVM with kernel =rbf and c=1 gives test accuracy:0.728133891600546 \n"
     ]
    }
   ],
   "source": [
    "svm_rbf_classifier=SVC(kernel='rbf')\n",
    "svm_rbf_classifier.fit(X_train,y_train)\n",
    "\n",
    "svm_rbf_predict=svm_rbf_classifier.predict(X_test)\n",
    "svm_rbf_accuracy=accuracy_score(y_test,svm_rbf_predict)\n",
    "\n",
    "print(f\"On bangla lekha isolated SVM with kernel =rbf and c=1 gives test accuracy:{svm_rbf_accuracy} \")\n",
    "\n",
    "cf=confusion_matrix(y_test,svm_rbf_predict)\n",
    "df_cf=pd.DataFrame(cf)\n",
    "#path:/home/saikat/Desktop/ML_Project\n",
    "df_cf.to_csv('/home/saikat/Desktop/ML_Project/Confusion_matrix_folder/SVM_rbf_kernel_conf_mat.csv')"
   ]
  },
  {
   "cell_type": "code",
   "execution_count": 7,
   "metadata": {},
   "outputs": [
    {
     "name": "stdout",
     "output_type": "stream",
     "text": [
      "SVM poly accuracy on Bangla isolated with strength=1 is :0.7234379698813297\n"
     ]
    }
   ],
   "source": [
    "svm_poly_classifier=SVC(kernel='poly')\n",
    "svm_poly_classifier.fit(X_train,y_train)\n",
    "\n",
    "svm_poly_prediction=svm_poly_classifier.predict(X_test)\n",
    "\n",
    "svm_poly_accuracy=accuracy_score(y_test,svm_poly_prediction)\n",
    "\n",
    "print(f\"SVM poly accuracy on Bangla isolated with strength=1 is :{svm_poly_accuracy}\")\n",
    "\n",
    "cf=confusion_matrix(y_test,svm_poly_prediction)\n",
    "df_cf=pd.DataFrame(cf)\n",
    "\n",
    "df_cf.to_csv('/home/saikat/Desktop/ML_Project/Confusion_matrix_folder/SVM_poly_kernel_conf_mat.csv')"
   ]
  },
  {
   "cell_type": "markdown",
   "metadata": {},
   "source": [
    "Training and testing on bayes"
   ]
  },
  {
   "cell_type": "code",
   "execution_count": 8,
   "metadata": {},
   "outputs": [
    {
     "name": "stdout",
     "output_type": "stream",
     "text": [
      "Bayes Classifier accuracy on Bangla isolated is :0.15718614818755927\n"
     ]
    }
   ],
   "source": [
    "bayes_clf=GaussianNB()\n",
    "\n",
    "bayes_clf.fit(X_train,y_train)\n",
    "\n",
    "bayes_prediction=bayes_clf.predict(X_test)\n",
    "\n",
    "bayes_accuracy=accuracy_score(y_test,bayes_prediction)\n",
    "\n",
    "print(f\"Bayes Classifier accuracy on Bangla isolated is :{bayes_accuracy}\")\n",
    "\n",
    "cf=confusion_matrix(y_test,bayes_prediction)\n",
    "df_cf=pd.DataFrame(cf)\n",
    "\n",
    "df_cf.to_csv('/home/saikat/Desktop/ML_Project/Confusion_matrix_folder/bayes_gauss_conf_mat.csv')"
   ]
  },
  {
   "cell_type": "code",
   "execution_count": 11,
   "metadata": {},
   "outputs": [
    {
     "name": "stdout",
     "output_type": "stream",
     "text": [
      "total average recall:[0.70463652 0.82783883 0.77835386 0.77991043 0.68617684 0.74443776\n",
      " 0.78345499 0.85641317 0.82322357 0.80963303 0.87205387 0.69813454\n",
      " 0.57514639 0.68150685 0.62140175 0.75890585 0.75172811 0.70710456\n",
      " 0.70149254 0.60415584 0.82963827 0.82477015 0.77783964 0.62882788\n",
      " 0.74749076 0.80908568 0.71003717 0.70273109 0.75734072 0.6627907\n",
      " 0.70315091 0.64529174 0.67623421 0.7287084  0.53556231 0.43573487\n",
      " 0.61098901 0.71491228 0.762104   0.80116959 0.43074324 0.53403465\n",
      " 0.72114854 0.78584615 0.70645346 0.71443737 0.81208426 0.8641115\n",
      " 0.90107527 0.88531856], and \n",
      " precision:[0.74696602 0.79298246 0.77384021 0.88913202 0.6723612  0.70945559\n",
      " 0.77730839 0.78308251 0.71214393 0.76159655 0.74468085 0.81410679\n",
      " 0.60797799 0.66003317 0.67049291 0.82560554 0.77817531 0.72309801\n",
      " 0.69534247 0.84336476 0.83450704 0.68202147 0.70913706 0.71531532\n",
      " 0.79360628 0.68970588 0.75622172 0.66467958 0.64299153 0.67375887\n",
      " 0.71621622 0.81413994 0.84687275 0.82926829 0.77826855 0.61663948\n",
      " 0.6702833  0.77619048 0.67175975 0.68538077 0.51102204 0.37934066\n",
      " 0.88783141 0.73390805 0.88294076 0.79739336 0.87935174 0.49141347\n",
      " 0.98356808 0.61202604]\n"
     ]
    }
   ],
   "source": [
    "cf_svm_poly=confusion_matrix(y_test,svm_poly_prediction)\n",
    "\n",
    "recall_poly=np.diag(cf_svm_poly)/np.sum(cf_svm_poly,axis=1)\n",
    "precision_poly=np.diag(cf_svm_poly)/np.sum(cf_svm_poly,axis=0)\n",
    "\n",
    "print(f'total average recall:{recall_poly}, and \\n precision:{precision_poly}')\n"
   ]
  },
  {
   "cell_type": "code",
   "execution_count": 12,
   "metadata": {},
   "outputs": [
    {
     "name": "stdout",
     "output_type": "stream",
     "text": [
      "total average recall:[0.74470521 0.82173382 0.73363577 0.76071657 0.64259029 0.79434756\n",
      " 0.80048662 0.88649262 0.83997689 0.73222477 0.8969697  0.70265687\n",
      " 0.51528953 0.66666667 0.67897372 0.79898219 0.73617512 0.71246649\n",
      " 0.71365395 0.60363636 0.87164527 0.77663602 0.79120267 0.63674762\n",
      " 0.7913365  0.83438758 0.7472119  0.71428571 0.69529086 0.69011628\n",
      " 0.65837479 0.62449451 0.71928817 0.71517202 0.57629179 0.47146974\n",
      " 0.63461538 0.72532895 0.82187687 0.8388564  0.50168919 0.4789604\n",
      " 0.76421866 0.76923077 0.62364363 0.71921444 0.84922395 0.77700348\n",
      " 0.90860215 0.90249307], and \n",
      " precision:[0.70706522 0.76477273 0.75416389 0.85416667 0.68073879 0.65460852\n",
      " 0.7759434  0.71684259 0.6368813  0.90439093 0.68908432 0.86259542\n",
      " 0.5751634  0.63512779 0.56043388 0.76960784 0.82772021 0.76861894\n",
      " 0.72609674 0.83838384 0.81416894 0.6913818  0.65514062 0.69994196\n",
      " 0.75580222 0.65745356 0.73319437 0.58721934 0.87152778 0.63920302\n",
      " 0.81799451 0.77769784 0.8205632  0.84702739 0.71439337 0.57242827\n",
      " 0.65107103 0.75513699 0.54541848 0.47445792 0.74811083 0.51055409\n",
      " 0.85484867 0.76499388 0.95204882 0.78278452 0.85826331 0.85769231\n",
      " 0.98484848 0.90802676]\n"
     ]
    }
   ],
   "source": [
    "cf_svm_rbf=confusion_matrix(y_test,svm_rbf_predict)\n",
    "\n",
    "recall_rbf=np.diag(cf_svm_rbf)/np.sum(cf_svm_rbf,axis=1)\n",
    "precision_rbf=np.diag(cf_svm_rbf)/np.sum(cf_svm_rbf,axis=0)\n",
    "\n",
    "print(f'total average recall:{recall_rbf}, and \\n precision:{precision_rbf}')"
   ]
  }
 ],
 "metadata": {
  "kernelspec": {
   "display_name": "Python 3",
   "language": "python",
   "name": "python3"
  },
  "language_info": {
   "codemirror_mode": {
    "name": "ipython",
    "version": 3
   },
   "file_extension": ".py",
   "mimetype": "text/x-python",
   "name": "python",
   "nbconvert_exporter": "python",
   "pygments_lexer": "ipython3",
   "version": "3.10.12"
  }
 },
 "nbformat": 4,
 "nbformat_minor": 2
}
